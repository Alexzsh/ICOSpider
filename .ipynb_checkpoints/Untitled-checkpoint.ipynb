{
 "cells": [
  {
   "cell_type": "code",
   "execution_count": 1,
   "metadata": {
    "collapsed": false
   },
   "outputs": [],
   "source": [
    "import gevent\n",
    "from gevent.event import Event\n",
    "import urllib.request\n",
    "import re\n",
    "from lxml import etree\n",
    "import json,time"
   ]
  },
  {
   "cell_type": "code",
   "execution_count": null,
   "metadata": {
    "collapsed": false
   },
   "outputs": [],
   "source": [
    "!export http_proxy='socks5://127.0.0.1:1080'"
   ]
  },
  {
   "cell_type": "code",
   "execution_count": 2,
   "metadata": {
    "collapsed": false
   },
   "outputs": [],
   "source": [
    "from test import ICOTerm,js,header,res"
   ]
  },
  {
   "cell_type": "code",
   "execution_count": null,
   "metadata": {
    "collapsed": false
   },
   "outputs": [],
   "source": [
    "!ls"
   ]
  },
  {
   "cell_type": "code",
   "execution_count": 32,
   "metadata": {
    "collapsed": false
   },
   "outputs": [],
   "source": [
    "class JSONObject:\n",
    "        def __init__(self, d):\n",
    "            self.__dict__ = d\n",
    "data=json.loads(js,object_hook=JSONObject)\n",
    "ico_list=[item for item in data.__dict__.items()]\n",
    "eve=Event()\n",
    "r=[]\n",
    "def func(msg):\n",
    "    print('ico',msg)\n",
    "    ico=ICOTerm(msg,eve)\n",
    "    r.append(ico)\n",
    "    dict = {}\n",
    "#     gevent.joinall(gevent.spawn(ico.getAlexaRank()),\n",
    "#                    gevent.spawn(ico.getGitHubStar()),\n",
    "#                    gevent.spawn(ico.getTlegramChannelSize(),timeout=60),\n",
    "#                    gevent.spawn(ico.GetEtherscanAddress(),timeout=60),\n",
    "#                    gevent.spawn(ico.callbackEvent())\n",
    "                   # gevent.spawn(ico.GetYoutubeViewCount()))\n",
    "#                    )\n",
    "    \n",
    "    ico.getTlegramChannelSize()\n",
    "#     ico.GetEtherscanAddress()\n",
    "#     ico.getAlexaRank()\n",
    "#     ico.getGitHubStar()\n",
    "    print(\"over\")"
   ]
  },
  {
   "cell_type": "code",
   "execution_count": 33,
   "metadata": {
    "collapsed": false
   },
   "outputs": [
    {
     "name": "stdout",
     "output_type": "stream",
     "text": [
      "url  https://etherscan.io/token/0x86fa049857e0209aa7d9e616f7eb3b3b78ecfdb0 read over 1.0707917213439941\n",
      "ether over\n",
      "Wall time: 1.08 s\n"
     ]
    }
   ],
   "source": [
    "%%time\n",
    "ico=ICOTerm(ico_list[0][1].__dict__,eve)\n",
    "ico.GetEtherscanAddress()"
   ]
  },
  {
   "cell_type": "code",
   "execution_count": null,
   "metadata": {
    "collapsed": false
   },
   "outputs": [
    {
     "name": "stdout",
     "output_type": "stream",
     "text": [
      "ico {'web': 'https://www.quarkchain.io/', 'telegram': 'https://t.me/quarkchain', 'github': 'https://github.com/iotexproject/iotex-core', '???': 'https://etherscan.io/token/0x86fa049857e0209aa7d9e616f7eb3b3b78ecfdb0', 'youtube': 'https://www.youtube.com/c/UCWltsUAyiser4-_eLLGmpdg'}\n",
      "ico {'web': 'http://www.baidu.com', 'telegram': 'https://t.me/quarkchain', 'github': 'https://github.com/iotexproject/iotex-core', '???': 'https://etherscan.io/token/0x86fa049857e0209aa7d9e616f7eb3b3b78ecfdb0', 'youtube': 'https://www.youtube.com/c/UCWltsUAyiser4-_eLLGmpdg'}\n",
      "url  http://data.alexa.com/data?cli=10&dat=snbamz&url=https://www.quarkchain.io/ read over 0.5624213218688965\n",
      "url alexa over \n",
      "http://data.alexa.com/data?cli=10&dat=snbamz&url=http://www.baidu.com read over 0.5854177474975586\n",
      "alexa over\n",
      "url  https://github.com/iotexproject/iotex-core read over 1.782320499420166\n",
      "git over\n",
      "url  https://github.com/iotexproject/iotex-core read over 1.9034056663513184\n",
      "git over\n",
      "url  https://t.me/quarkchain read over 11.181145191192627\n",
      "tele over\n",
      "url  https://etherscan.io/token/0x86fa049857e0209aa7d9e616f7eb3b3b78ecfdb0 read over 1.3664302825927734\n",
      "ether over\n",
      "over\n"
     ]
    }
   ],
   "source": [
    "from multiprocessing.dummy import Pool\n",
    "import multiprocessing\n",
    "import time\n",
    "start=time.time()\n",
    "pool=Pool(2)\n",
    "for i in ico_list:\n",
    "    pool.apply_async(func,(i[1].__dict__,))\n",
    "pool.close()\n",
    "pool.join()\n",
    "print((time.time()-start),'seconds')"
   ]
  },
  {
   "cell_type": "code",
   "execution_count": null,
   "metadata": {
    "collapsed": false
   },
   "outputs": [],
   "source": [
    "print([i.result for i in r])"
   ]
  },
  {
   "cell_type": "code",
   "execution_count": 16,
   "metadata": {
    "collapsed": false,
    "scrolled": true
   },
   "outputs": [
    {
     "name": "stdout",
     "output_type": "stream",
     "text": [
      "3\n",
      "5993\n",
      "Wall time: 1.63 s\n"
     ]
    }
   ],
   "source": [
    "%%time\n",
    "proxies = {\n",
    "    'https': 'https://127.0.0.1:1080',\n",
    "    'http': 'http://127.0.0.1:1080'\n",
    "}\n",
    "url='https://t.me/quarkchain'\n",
    "proxy_support = urllib.request.ProxyHandler(proxies)\n",
    "opener = urllib.request.build_opener(proxy_support)\n",
    "start=time.time()\n",
    "request = urllib.request.Request(url, headers=header)\n",
    "# urllib.request.Request.set_proxy(self.proxy,'socks5')\n",
    "response = opener.open(request)\n",
    "# response = opener.open(request)\n",
    "data = response.read()\n",
    "print(len(data))"
   ]
  },
  {
   "cell_type": "code",
   "execution_count": null,
   "metadata": {
    "collapsed": false
   },
   "outputs": [],
   "source": [
    "import urllib.request as request\n",
    "import requests\n",
    "\n",
    "proxies = {\n",
    "    'https': 'https://127.0.0.1:1080',\n",
    "    'http': 'http://127.0.0.1:1080'\n",
    "}\n",
    "headers = {\n",
    "    'user-agent': 'Mozilla/5.0 (Windows NT 10.0; Win64; x64) AppleWebKit/537.36 (KHTML, like Gecko) Chrome/56.0.2924.87 Safari/537.36'\n",
    "}\n",
    "\n",
    "print('--------------使用urllib--------------')\n",
    "google_url = 'https://www.google.com'\n",
    "opener = request.build_opener(request.ProxyHandler(proxies))\n",
    "request.install_opener(opener)\n",
    "\n",
    "req = request.Request(google_url, headers=headers)\n",
    "response = request.urlopen(req)\n",
    "\n",
    "print(response.read().decode())\n",
    "\n",
    "print('--------------使用requests--------------')\n",
    "response = requests.get(google_url, proxies=proxies)\n",
    "print(response.text)"
   ]
  },
  {
   "cell_type": "code",
   "execution_count": null,
   "metadata": {
    "collapsed": true
   },
   "outputs": [],
   "source": []
  },
  {
   "cell_type": "code",
   "execution_count": null,
   "metadata": {
    "collapsed": false
   },
   "outputs": [],
   "source": [
    "#coding:utf-8\n",
    "#http://rfyiamcool.blog.51cto.com/1030776/1538367\n",
    "import gevent\n",
    "import time\n",
    " \n",
    "def event_setter(e):\n",
    "    print( '开始搞了...')\n",
    "    e.rawlink(event_callback)\n",
    "    gevent.sleep(2)\n",
    "    print ('222...')\n",
    "    e.set()\n",
    " \n",
    "def event_waiter(e):\n",
    "    print ('等待...')\n",
    "    e.wait()\n",
    "    print ('等待 end')\n",
    " \n",
    "def event_callback(e):\n",
    "    print (\"回调...\")\n",
    " \n",
    "def try_event():\n",
    "    from gevent.event import Event\n",
    "    e = Event()\n",
    "    gevent.joinall([\n",
    "        gevent.spawn(event_setter, e),\n",
    "        gevent.spawn(event_waiter, e),\n",
    "        gevent.spawn(event_waiter, e),\n",
    "        gevent.spawn(event_waiter, e),\n",
    "        gevent.spawn(event_waiter, e),\n",
    "        gevent.spawn(event_waiter, e),\n",
    "        gevent.spawn(event_waiter, e),\n",
    "    ])\n",
    " \n",
    "try_event()"
   ]
  },
  {
   "cell_type": "code",
   "execution_count": null,
   "metadata": {
    "collapsed": false
   },
   "outputs": [],
   "source": [
    "import gevent\n",
    "from gevent.event import AsyncResult\n",
    "a = AsyncResult()\n",
    "\n",
    "def setter():\n",
    "    \"\"\"\n",
    "    After 3 seconds set the result of a.\n",
    "    \"\"\"\n",
    "    gevent.sleep(1)\n",
    "    a.set('Hello!')\n",
    "\n",
    "def waiter():\n",
    "    \"\"\"\n",
    "    After 3 seconds the get call will unblock after the setter\n",
    "    puts a value into the AsyncResult.\n",
    "    \"\"\"\n",
    "    print(a.get())\n",
    "\n",
    "gevent.joinall([\n",
    "    gevent.spawn(setter),\n",
    "    gevent.spawn(waiter),\n",
    "])"
   ]
  }
 ],
 "metadata": {
  "kernelspec": {
   "display_name": "Python 3",
   "language": "python",
   "name": "python3"
  },
  "language_info": {
   "codemirror_mode": {
    "name": "ipython",
    "version": 3
   },
   "file_extension": ".py",
   "mimetype": "text/x-python",
   "name": "python",
   "nbconvert_exporter": "python",
   "pygments_lexer": "ipython3",
   "version": "3.6.2"
  }
 },
 "nbformat": 4,
 "nbformat_minor": 2
}
