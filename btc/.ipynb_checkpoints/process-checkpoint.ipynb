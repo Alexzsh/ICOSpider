{
 "cells": [
  {
   "cell_type": "code",
   "execution_count": 1,
   "metadata": {},
   "outputs": [
    {
     "name": "stdout",
     "output_type": "stream",
     "text": [
      "Python 3.6.5 :: Anaconda, Inc.\r\n"
     ]
    }
   ],
   "source": [
    "!python --version"
   ]
  },
  {
   "cell_type": "markdown",
   "metadata": {},
   "source": [
    "### 回归指标\n",
    "\n",
    "> MSE:Mean Squared Error 均方误差  \n",
    "$$\\frac{1}{m} \\sum_{i=1}^{m} (y_i-\\hat{y_i})^2$$   \n",
    "\n",
    "> RMSE:Root Mean Squares Error 根均方误差  \n",
    "$$\\sqrt{\\frac{1}{m} \\sum_{i=1}^{m} (y_i-\\hat{y_i})^2}$$\n",
    "\n",
    "> MAE:Mean Abs Error 平均绝对值误差  \n",
    "$$ {\\frac{1}{m} \\sum_{i=1}^{m}\\left |y_i-\\hat{y_i} \\right |} $$\n",
    "\n",
    "> R Squared 决定系数  \n",
    "\n",
    "$$\n",
    "R^2 = 1 - \\frac{ SS_{res}(\\sum_{i}{(y_i-\\hat{y})^2}) }{ SS_{total}(\\sum_{i}{(y_i-\\bar{y})^2}) }\n",
    "$$\n",
    "\n",
    "- 由于上述三种评价指标和数据本身有关，故提出R2进行评价\n",
    "- R2分子为模型预测误差 分母为数据本身方差 \n",
    " - 值介于0，1之间 若为负数证明还不如瞎猜"
   ]
  },
  {
   "cell_type": "code",
   "execution_count": 32,
   "metadata": {},
   "outputs": [],
   "source": [
    "import numpy as np\n",
    "import pandas as pd\n",
    "import matplotlib.pyplot as plt\n",
    "import seaborn as sns;sns.set()\n",
    "%matplotlib inline"
   ]
  },
  {
   "cell_type": "code",
   "execution_count": 55,
   "metadata": {},
   "outputs": [
    {
     "data": {
      "text/plain": [
       "<matplotlib.collections.PathCollection at 0x11a4722b0>"
      ]
     },
     "execution_count": 55,
     "metadata": {},
     "output_type": "execute_result"
    },
    {
     "data": {
      "image/png": "[encoded data removed]",
      "text/plain": [
       "<Figure size 432x288 with 1 Axes>"
      ]
     },
     "metadata": {},
     "output_type": "display_data"
    }
   ],
   "source": [
    "d=1000\n",
    "x=np.linspace(0,100*np.pi,d)\n",
    "noise=np.random.random((d,1))\n",
    "y=np.sin(x/2/np.pi).reshape(d,1)+noise\n",
    "plt.scatter(x,y)"
   ]
  },
  {
   "cell_type": "code",
   "execution_count": 56,
   "metadata": {},
   "outputs": [],
   "source": [
    "from sklearn.preprocessing import MinMaxScaler\n",
    "scalar = MinMaxScaler()\n",
    "y_scalar = scalar.fit_transform(y)"
   ]
  },
  {
   "cell_type": "code",
   "execution_count": 63,
   "metadata": {},
   "outputs": [],
   "source": [
    "def getData(x,step):\n",
    "    dataX,dataY=[],[]\n",
    "    for i in range(len(x)-step-1):\n",
    "        dataX.append(x[i:i+step])\n",
    "        dataY.append(x[i+step])\n",
    "    return (np.array(dataX),np.array(dataY))\n",
    "Xtrain=y_scalar[:int(len(y_scalar)*0.8)]\n",
    "Xtest = y_scalar[int(len(y_scalar)*0.8):]\n",
    "\n",
    "X_train,y_train = getData(Xtrain,10)\n",
    "X_test,y_test = getData(Xtest,10)\n",
    "\n",
    "import tensorflow as tf\n"
   ]
  },
  {
   "cell_type": "code",
   "execution_count": 65,
   "metadata": {},
   "outputs": [
    {
     "data": {
      "text/plain": [
       "(789, 1)"
      ]
     },
     "execution_count": 65,
     "metadata": {},
     "output_type": "execute_result"
    }
   ],
   "source": [
    "y_train.shape"
   ]
  },
  {
   "cell_type": "code",
   "execution_count": null,
   "metadata": {},
   "outputs": [],
   "source": [
    "x=tf.placeholder(tf.float32,shape=[None,10])\n",
    "y=tf.placeholder(tf.float32,shape=[None,1])\n",
    "\n"
   ]
  },
  {
   "cell_type": "code",
   "execution_count": 1,
   "metadata": {},
   "outputs": [
    {
     "name": "stdout",
     "output_type": "stream",
     "text": [
      "[45, 5, 6, 7, 78]\n"
     ]
    }
   ],
   "source": [
    "x=[1,2,3,4,45,5,6,7,78]\n",
    "print(x[4::])"
   ]
  },
  {
   "cell_type": "code",
   "execution_count": 4,
   "metadata": {},
   "outputs": [
    {
     "name": "stdout",
     "output_type": "stream",
     "text": [
      "[[5, 21, 13, 4], [21, 13, 4, 5], [13, 4, 5, 14], [4, 5, 14, 10], [5, 14, 10, 5], [14, 10, 5, 11], [10, 5, 11, 11], [5, 11, 11, 6], [11, 11, 6, 4], [11, 6, 4, 9], [6, 4, 9, 14], [4, 9, 14, 17], [9, 14, 17, 8], [14, 17, 8, 9], [17, 8, 9, 3], [8, 9, 3, 11], [9, 3, 11, 9], [3, 11, 9, 1], [11, 9, 1, 7], [9, 1, 7, 11], [1, 7, 11, 2], [7, 11, 2, 7], [11, 2, 7, 14], [2, 7, 14, 2], [7, 14, 2, 8], [14, 2, 8, 13], [2, 8, 13, 1], [8, 13, 1, 4], [13, 1, 4, 18], [1, 4, 18, 3], [4, 18, 3, 5], [18, 3, 5, 19], [3, 5, 19, 8], [5, 19, 8, 10], [19, 8, 10, 14], [8, 10, 14, 9], [10, 14, 9, 5], [14, 9, 5, 12], [9, 5, 12, 7], [5, 12, 7, 12], [12, 7, 12, 11], [7, 12, 11, 6], [12, 11, 6, 11], [11, 6, 11, 18], [6, 11, 18, 9], [11, 18, 9, 9], [18, 9, 9, 21], [9, 9, 21, 3], [9, 21, 3, 6], [21, 3, 6, 3], [3, 6, 3, 11], [6, 3, 11, 17], [3, 11, 17, 19], [11, 17, 19, 1], [17, 19, 1, 5], [19, 1, 5, 17], [1, 5, 17, 9], [5, 17, 9, 4], [17, 9, 4, 15], [9, 4, 15, 2], [4, 15, 2, 5], [15, 2, 5, 17], [2, 5, 17, 4], [5, 17, 4, 14], [17, 4, 14, 15], [4, 14, 15, 9], [14, 15, 9, 12], [15, 9, 12, 18], [9, 12, 18, 10], [12, 18, 10, 8], [18, 10, 8, 19], [10, 8, 19, 3], [8, 19, 3, 11], [19, 3, 11, 18], [3, 11, 18, 4], [11, 18, 4, 15], [18, 4, 15, 18], [4, 15, 18, 5], [15, 18, 5, 13], [18, 5, 13, 15], [5, 13, 15, 12], [13, 15, 12, 11], [15, 12, 11, 12], [12, 11, 12, 2], [11, 12, 2, 9], [12, 2, 9, 15], [2, 9, 15, 9], [9, 15, 9, 3], [15, 9, 3, 15], [9, 3, 15, 6], [3, 15, 6, 12], [15, 6, 12, 11], [6, 12, 11, 3], [12, 11, 3, 13], [11, 3, 13, 20], [3, 13, 20, 9], [13, 20, 9, 9], [20, 9, 9, 13], [9, 9, 13, 9], [9, 13, 9, 13], [13, 9, 13, 19], [9, 13, 19, 6], [13, 19, 6, 24], [19, 6, 24, 18], [6, 24, 18, 9], [24, 18, 9, 14], [18, 9, 14, 17], [9, 14, 17, 6], [14, 17, 6, 18], [17, 6, 18, 17], [6, 18, 17, 13], [18, 17, 13, 15], [17, 13, 15, 20], [13, 15, 20, 2], [15, 20, 2, 11], [20, 2, 11, 18], [2, 11, 18, 7], [11, 18, 7, 12], [18, 7, 12, 16], [7, 12, 16, 11], [12, 16, 11, 4], [16, 11, 4, 15], [11, 4, 15, 5], [4, 15, 5, 15], [15, 5, 15, 17], [5, 15, 17, 2], [15, 17, 2, 15], [17, 2, 15, 17], [2, 15, 17, 6], [15, 17, 6, 14], [17, 6, 14, 19], [6, 14, 19, 2], [14, 19, 2, 11], [19, 2, 11, 16], [2, 11, 16, 3], [11, 16, 3, 17], [16, 3, 17, 1], [3, 17, 1, 4], [17, 1, 4, 15], [1, 4, 15, 3], [4, 15, 3, 5], [15, 3, 5, 18], [3, 5, 18, 4], [5, 18, 4, 13], [18, 4, 13, 9], [4, 13, 9, 1], [13, 9, 1, 4], [9, 1, 4, 9], [1, 4, 9, 3], [4, 9, 3, 8], [9, 3, 8, 17], [3, 8, 17, 1], [8, 17, 1, 6], [17, 1, 6, 15], [1, 6, 15, 9], [6, 15, 9, 8], [15, 9, 8, 14], [9, 8, 14, 0], [8, 14, 0, 5], [14, 0, 5, 17], [0, 5, 17, 3], [5, 17, 3, 14], [17, 3, 14, 14], [3, 14, 14, 2], [14, 14, 2, 13], [14, 2, 13, 16], [2, 13, 16, 3], [13, 16, 3, 6], [16, 3, 6, 17], [3, 6, 17, 3], [6, 17, 3, 6], [17, 3, 6, 18], [3, 6, 18, 2], [6, 18, 2, 6], [18, 2, 6, 15], [2, 6, 15, 3], [6, 15, 3, 6], [15, 3, 6, 25], [3, 6, 25, 2], [6, 25, 2, 5], [25, 2, 5, 11], [2, 5, 11, 0], [5, 11, 0, 7], [11, 0, 7, 24], [0, 7, 24, 1], [7, 24, 1, 6], [24, 1, 6, 21], [1, 6, 21, 6], [6, 21, 6, 7], [21, 6, 7, 17], [6, 7, 17, 3], [7, 17, 3, 13], [17, 3, 13, 21], [3, 13, 21, 4], [13, 21, 4, 13], [21, 4, 13, 22], [4, 13, 22, 1], [13, 22, 1, 11], [22, 1, 11, 18], [1, 11, 18, 1], [11, 18, 1, 12], [18, 1, 12, 27], [1, 12, 27, 0], [12, 27, 0, 3], [27, 0, 3, 24], [0, 3, 24, 6], [3, 24, 6, 7], [24, 6, 7, 11], [6, 7, 11, 3], [7, 11, 3, 7], [11, 3, 7, 5], [3, 7, 5, 4], [7, 5, 4, 11], [5, 4, 11, 19], [4, 11, 19, 3], [11, 19, 3, 6], [19, 3, 6, 19], [3, 6, 19, 5], [6, 19, 5, 8], [19, 5, 8, 20], [5, 8, 20, 25], [8, 20, 25, 22], [20, 25, 22, 9], [25, 22, 9, 9], [22, 9, 9, 8], [9, 9, 8, 10], [9, 8, 10, 2], [8, 10, 2, 2], [10, 2, 2, 18], [2, 2, 18, 5], [2, 18, 5, 5], [18, 5, 5, 17], [5, 5, 17, 4], [5, 17, 4, 9], [17, 4, 9, 17], [4, 9, 17, 4], [9, 17, 4, 14], [17, 4, 14, 24], [4, 14, 24, 4], [14, 24, 4, 8], [24, 4, 8, 17], [4, 8, 17, 3], [8, 17, 3, 18], [17, 3, 18, 28], [3, 18, 28, 1], [18, 28, 1, 15], [28, 1, 15, 14], [1, 15, 14, 2], [15, 14, 2, 16], [14, 2, 16, 19], [2, 16, 19, 3], [16, 19, 3, 8], [19, 3, 8, 21], [3, 8, 21, 0], [8, 21, 0, 12], [21, 0, 12, 2], [0, 12, 2, 9], [12, 2, 9, 12], [2, 9, 12, 5], [9, 12, 5, 4], [12, 5, 4, 16], [5, 4, 16, 2], [4, 16, 2, 5], [16, 2, 5, 13], [2, 5, 13, 8], [5, 13, 8, 9], [13, 8, 9, 15], [8, 9, 15, 4], [9, 15, 4, 10], [15, 4, 10, 13], [4, 10, 13, 11], [10, 13, 11, 10], [13, 11, 10, 9], [11, 10, 9, 3], [10, 9, 3, 4], [9, 3, 4, 14], [3, 4, 14, 2], [4, 14, 2, 7], [14, 2, 7, 22], [2, 7, 22, 3], [7, 22, 3, 5], [22, 3, 5, 12], [3, 5, 12, 6], [5, 12, 6, 7], [12, 6, 7, 14], [6, 7, 14, 5], [7, 14, 5, 4], [14, 5, 4, 15], [5, 4, 15, 2], [4, 15, 2, 6], [15, 2, 6, 9], [2, 6, 9, 14], [6, 9, 14, 5], [9, 14, 5, 7], [14, 5, 7, 10], [5, 7, 10, 5], [7, 10, 5, 13], [10, 5, 13, 15], [5, 13, 15, 7], [13, 15, 7, 9], [15, 7, 9, 2], [7, 9, 2, 12], [9, 2, 12, 18], [2, 12, 18, 2], [12, 18, 2, 4], [18, 2, 4, 17], [2, 4, 17, 2], [4, 17, 2, 12], [17, 2, 12, 13], [2, 12, 13, 13], [12, 13, 13, 8], [13, 13, 8, 18], [13, 8, 18, 2], [8, 18, 2, 12], [18, 2, 12, 19], [2, 12, 19, 4], [12, 19, 4, 16], [19, 4, 16, 19], [4, 16, 19, 11], [16, 19, 11, 11], [19, 11, 11, 11], [11, 11, 11, 7], [11, 11, 7, 24], [11, 7, 24, 12], [7, 24, 12, 7], [24, 12, 7, 18], [12, 7, 18, 17], [7, 18, 17, 5], [18, 17, 5, 20], [17, 5, 20, 12], [5, 20, 12, 3], [20, 12, 3, 11], [12, 3, 11, 10], [3, 11, 10, 10], [11, 10, 10, 19], [10, 10, 19, 13], [10, 19, 13, 5], [19, 13, 5, 16], [13, 5, 16, 17], [5, 16, 17, 2], [16, 17, 2, 16], [17, 2, 16, 17], [2, 16, 17, 4], [16, 17, 4, 16], [17, 4, 16, 19], [4, 16, 19, 10], [16, 19, 10, 7], [19, 10, 7, 13], [10, 7, 13, 8], [7, 13, 8, 5], [13, 8, 5, 14], [8, 5, 14, 12], [5, 14, 12, 3], [14, 12, 3, 19], [12, 3, 19, 12], [3, 19, 12, 12], [19, 12, 12, 13], [12, 12, 13, 8], [12, 13, 8, 11], [13, 8, 11, 12], [8, 11, 12, 12], [11, 12, 12, 15], [12, 12, 15, 15], [12, 15, 15, 3], [15, 15, 3, 9], [15, 3, 9, 15], [3, 9, 15, 9], [9, 15, 9, 8], [15, 9, 8, 20], [9, 8, 20, 6], [8, 20, 6, 10], [20, 6, 10, 7], [6, 10, 7, 6], [10, 7, 6, 18], [7, 6, 18, 0], [6, 18, 0, 10], [18, 0, 10, 3], [0, 10, 3, 4], [10, 3, 4, 10], [3, 4, 10, 3], [4, 10, 3, 2], [10, 3, 2, 21], [3, 2, 21, 5], [2, 21, 5, 4], [21, 5, 4, 18], [5, 4, 18, 6], [4, 18, 6, 5], [18, 6, 5, 12], [6, 5, 12, 4], [5, 12, 4, 9], [12, 4, 9, 11], [4, 9, 11, 2], [9, 11, 2, 4], [11, 2, 4, 10], [2, 4, 10, 3], [4, 10, 3, 5], [10, 3, 5, 19], [3, 5, 19, 3], [5, 19, 3, 9], [19, 3, 9, 14], [3, 9, 14, 4], [9, 14, 4, 4], [14, 4, 4, 12], [4, 4, 12, 0], [4, 12, 0, 10], [12, 0, 10, 22], [0, 10, 22, 3], [10, 22, 3, 9], [22, 3, 9, 21], [3, 9, 21, 5], [9, 21, 5, 3], [21, 5, 3, 8], [5, 3, 8, 10], [3, 8, 10, 9], [8, 10, 9, 14], [10, 9, 14, 7], [9, 14, 7, 10], [14, 7, 10, 16], [7, 10, 16, 7], [10, 16, 7, 5], [16, 7, 5, 10], [7, 5, 10, 5], [5, 10, 5, 15], [10, 5, 15, 14], [5, 15, 14, 2], [15, 14, 2, 15], [14, 2, 15, 12], [2, 15, 12, 6], [15, 12, 6, 10], [12, 6, 10, 24], [6, 10, 24, 2], [10, 24, 2, 16], [24, 2, 16, 22], [2, 16, 22, 8], [16, 22, 8, 11], [22, 8, 11, 16], [8, 11, 16, 12], [11, 16, 12, 3], [16, 12, 3, 15], [12, 3, 15, 5], [3, 15, 5, 15], [15, 5, 15, 14], [5, 15, 14, 5], [15, 14, 5, 11], [14, 5, 11, 15], [5, 11, 15, 4], [11, 15, 4, 12], [15, 4, 12, 19], [4, 12, 19, 4], [12, 19, 4, 13], [19, 4, 13, 14], [4, 13, 14, 2], [13, 14, 2, 15], [14, 2, 15, 19], [2, 15, 19, 0], [15, 19, 0, 16], [19, 0, 16, 13], [0, 16, 13, 8], [16, 13, 8, 8], [13, 8, 8, 15], [8, 8, 15, 3], [8, 15, 3, 14], [15, 3, 14, 16], [3, 14, 16, 2], [14, 16, 2, 10], [16, 2, 10, 13], [2, 10, 13, 8], [10, 13, 8, 11], [13, 8, 11, 9], [8, 11, 9, 12], [11, 9, 12, 11], [9, 12, 11, 17], [12, 11, 17, 6], [11, 17, 6, 15], [17, 6, 15, 14], [6, 15, 14, 6], [15, 14, 6, 14], [14, 6, 14, 11], [6, 14, 11, 7], [14, 11, 7, 6], [11, 7, 6, 16], [7, 6, 16, 8], [6, 16, 8, 15], [16, 8, 15, 20], [8, 15, 20, 2], [15, 20, 2, 27], [20, 2, 27, 7], [2, 27, 7, 7], [27, 7, 7, 11], [7, 7, 11, 20], [7, 11, 20, 2], [11, 20, 2, 3], [20, 2, 3, 13], [2, 3, 13, 7], [3, 13, 7, 8], [13, 7, 8, 3], [7, 8, 3, 4], [8, 3, 4, 6], [3, 4, 6, 4], [4, 6, 4, 6], [6, 4, 6, 3], [4, 6, 3, 7], [6, 3, 7, 3], [3, 7, 3, 0], [7, 3, 0, 3], [3, 0, 3, 10], [0, 3, 10, 4], [3, 10, 4, 4], [10, 4, 4, 5], [4, 4, 5, 2], [4, 5, 2, 6], [5, 2, 6, 1], [2, 6, 1, 6], [6, 1, 6, 4], [1, 6, 4, 6], [6, 4, 6, 8], [4, 6, 8, 3], [6, 8, 3, 7], [8, 3, 7, 3], [3, 7, 3, 11], [7, 3, 11, 4], [3, 11, 4, 4], [11, 4, 4, 12], [4, 4, 12, 2], [4, 12, 2, 7], [12, 2, 7, 5], [2, 7, 5, 7], [7, 5, 7, 7], [5, 7, 7, 5], [7, 7, 5, 3], [7, 5, 3, 8], [5, 3, 8, 2], [3, 8, 2, 6], [8, 2, 6, 5], [2, 6, 5, 12], [6, 5, 12, 5], [5, 12, 5, 10], [12, 5, 10, 11], [5, 10, 11, 8], [10, 11, 8, 14], [11, 8, 14, 3], [8, 14, 3, 2], [14, 3, 2, 14], [3, 2, 14, 5], [2, 14, 5, 10], [14, 5, 10, 9], [5, 10, 9, 7], [10, 9, 7, 15], [9, 7, 15, 13], [7, 15, 13, 7], [15, 13, 7, 5], [13, 7, 5, 20], [7, 5, 20, 4], [5, 20, 4, 8], [20, 4, 8, 17], [4, 8, 17, 7], [8, 17, 7, 6], [17, 7, 6, 5], [7, 6, 5, 5], [6, 5, 5, 6], [5, 5, 6, 10], [5, 6, 10, 2], [6, 10, 2, 14], [10, 2, 14, 19], [2, 14, 19, 4], [14, 19, 4, 7], [19, 4, 7, 7], [4, 7, 7, 1], [7, 7, 1, 1], [7, 1, 1, 17], [1, 1, 17, 4], [1, 17, 4, 7], [17, 4, 7, 14], [4, 7, 14, 4], [7, 14, 4, 5], [14, 4, 5, 18], [4, 5, 18, 4], [5, 18, 4, 5], [18, 4, 5, 18], [4, 5, 18, 3], [5, 18, 3, 11], [18, 3, 11, 15], [3, 11, 15, 6], [11, 15, 6, 8], [15, 6, 8, 19], [6, 8, 19, 6], [8, 19, 6, 12], [19, 6, 12, 13], [6, 12, 13, 9], [12, 13, 9, 9], [13, 9, 9, 14], [9, 9, 14, 4], [9, 14, 4, 8], [14, 4, 8, 14], [4, 8, 14, 5], [8, 14, 5, 9], [14, 5, 9, 19], [5, 9, 19, 7], [9, 19, 7, 7], [19, 7, 7, 11], [7, 7, 11, 13], [7, 11, 13, 13], [11, 13, 13, 11], [13, 13, 11, 5], [13, 11, 5, 3], [11, 5, 3, 21], [5, 3, 21, 2], [3, 21, 2, 11], [21, 2, 11, 1], [2, 11, 1, 3], [11, 1, 3, 5], [1, 3, 5, 21], [3, 5, 21, 9], [5, 21, 9, 5], [21, 9, 5, 7], [9, 5, 7, 2], [5, 7, 2, 9], [7, 2, 9, 3], [2, 9, 3, 6], [9, 3, 6, 9], [3, 6, 9, 1], [6, 9, 1, 6], [9, 1, 6, 8], [1, 6, 8, 6], [6, 8, 6, 3], [8, 6, 3, 0], [6, 3, 0, 5], [3, 0, 5, 7], [0, 5, 7, 1], [5, 7, 1, 12], [7, 1, 12, 0], [1, 12, 0, 4], [12, 0, 4, 10], [0, 4, 10, 1], [4, 10, 1, 9], [10, 1, 9, 20], [1, 9, 20, 5], [9, 20, 5, 0], [20, 5, 0, 12], [5, 0, 12, 2], [0, 12, 2, 4], [12, 2, 4, 8], [2, 4, 8, 1], [4, 8, 1, 4], [8, 1, 4, 6], [1, 4, 6, 4], [4, 6, 4, 12], [6, 4, 12, 2], [4, 12, 2, 6], [12, 2, 6, 7], [2, 6, 7, 4], [6, 7, 4, 5], [7, 4, 5, 12], [4, 5, 12, 0], [5, 12, 0, 6], [12, 0, 6, 19], [0, 6, 19, 5], [6, 19, 5, 6], [19, 5, 6, 12], [5, 6, 12, 5], [6, 12, 5, 4], [12, 5, 4, 16], [5, 4, 16, 6], [4, 16, 6, 6], [16, 6, 6, 14], [6, 6, 14, 4], [6, 14, 4, 2], [14, 4, 2, 18], [4, 2, 18, 3], [2, 18, 3, 7], [18, 3, 7, 13], [3, 7, 13, 1], [7, 13, 1, 9], [13, 1, 9, 1], [1, 9, 1, 4], [9, 1, 4, 8], [1, 4, 8, 9], [4, 8, 9, 2], [8, 9, 2, 5], [9, 2, 5, 3], [2, 5, 3, 2], [5, 3, 2, 13], [3, 2, 13, 16], [2, 13, 16, 0], [13, 16, 0, 11], [16, 0, 11, 3], [0, 11, 3, 5], [11, 3, 5, 4], [3, 5, 4, 14], [5, 4, 14, 5], [4, 14, 5, 16], [14, 5, 16, 3], [5, 16, 3, 5], [16, 3, 5, 9], [3, 5, 9, 2], [5, 9, 2, 4], [9, 2, 4, 18], [2, 4, 18, 8], [4, 18, 8, 3], [18, 8, 3, 12], [8, 3, 12, 15], [3, 12, 15, 5], [12, 15, 5, 15], [15, 5, 15, 4], [5, 15, 4, 7], [15, 4, 7, 13], [4, 7, 13, 5], [7, 13, 5, 3], [13, 5, 3, 12], [5, 3, 12, 6], [3, 12, 6, 11], [12, 6, 11, 15], [6, 11, 15, 3], [11, 15, 3, 8], [15, 3, 8, 13], [3, 8, 13, 4], [8, 13, 4, 8], [13, 4, 8, 17], [4, 8, 17, 1], [8, 17, 1, 5], [17, 1, 5, 17], [1, 5, 17, 1], [5, 17, 1, 8], [17, 1, 8, 17], [1, 8, 17, 5], [8, 17, 5, 8], [17, 5, 8, 19], [5, 8, 19, 7], [8, 19, 7, 7], [19, 7, 7, 13], [7, 7, 13, 4], [7, 13, 4, 8], [13, 4, 8, 12], [4, 8, 12, 1], [8, 12, 1, 6], [12, 1, 6, 6], [1, 6, 6, 11], [6, 6, 11, 3], [6, 11, 3, 12], [11, 3, 12, 3], [3, 12, 3, 3], [12, 3, 3, 7], [3, 3, 7, 10], [3, 7, 10, 5], [7, 10, 5, 4], [10, 5, 4, 20], [5, 4, 20, 6], [4, 20, 6, 9], [20, 6, 9, 20], [6, 9, 20, 3], [9, 20, 3, 8], [20, 3, 8, 11], [3, 8, 11, 3], [8, 11, 3, 7], [11, 3, 7, 10], [3, 7, 10, 5], [7, 10, 5, 10], [10, 5, 10, 15], [5, 10, 15, 5], [10, 15, 5, 12], [15, 5, 12, 16], [5, 12, 16, 4], [12, 16, 4, 8], [16, 4, 8, 13], [4, 8, 13, 3], [8, 13, 3, 14], [13, 3, 14, 11], [3, 14, 11, 5], [14, 11, 5, 15], [11, 5, 15, 9], [5, 15, 9, 8], [15, 9, 8, 10], [9, 8, 10, 11], [8, 10, 11, 10], [10, 11, 10, 10], [11, 10, 10, 10], [10, 10, 10, 9], [10, 10, 9, 11], [10, 9, 11, 12], [9, 11, 12, 9], [11, 12, 9, 8], [12, 9, 8, 18], [9, 8, 18, 12], [8, 18, 12, 12], [18, 12, 12, 17], [12, 12, 17, 13], [12, 17, 13, 4], [17, 13, 4, 21], [13, 4, 21, 5], [4, 21, 5, 9], [21, 5, 9, 17], [5, 9, 17, 8], [9, 17, 8, 14], [17, 8, 14, 13], [8, 14, 13, 6], [14, 13, 6, 8], [13, 6, 8, 18], [6, 8, 18, 7], [8, 18, 7, 11], [18, 7, 11, 14], [7, 11, 14, 5], [11, 14, 5, 2], [14, 5, 2, 20], [5, 2, 20, 9], [2, 20, 9, 5], [20, 9, 5, 9], [9, 5, 9, 4], [5, 9, 4, 6], [9, 4, 6, 10], [4, 6, 10, 17], [6, 10, 17, 10], [10, 17, 10, 12], [17, 10, 12, 8], [10, 12, 8, 4], [12, 8, 4, 15], [8, 4, 15, 2], [4, 15, 2, 19], [15, 2, 19, 14], [2, 19, 14, 14], [19, 14, 14, 13], [14, 14, 13, 10], [14, 13, 10, 11], [13, 10, 11, 19], [10, 11, 19, 7], [11, 19, 7, 9], [19, 7, 9, 14], [7, 9, 14, 14], [9, 14, 14, 8], [14, 14, 8, 7], [14, 8, 7, 10], [8, 7, 10, 10], [7, 10, 10, 14], [10, 10, 14, 12], [10, 14, 12, 6], [14, 12, 6, 6], [12, 6, 6, 18], [6, 6, 18, 11], [6, 18, 11, 8], [18, 11, 8, 16], [11, 8, 16, 11], [8, 16, 11, 13], [16, 11, 13, 11], [11, 13, 11, 10], [13, 11, 10, 7], [11, 10, 7, 15], [10, 7, 15, 13], [7, 15, 13, 11], [15, 13, 11, 9], [13, 11, 9, 6], [11, 9, 6, 9], [9, 6, 9, 5], [6, 9, 5, 3], [9, 5, 3, 1], [5, 3, 1, 22], [3, 1, 22, 5], [1, 22, 5, 6], [22, 5, 6, 4], [5, 6, 4, 8], [6, 4, 8, 12], [4, 8, 12, 10], [8, 12, 10, 14], [12, 10, 14, 8], [10, 14, 8, 6], [14, 8, 6, 11], [8, 6, 11, 6], [6, 11, 6, 12], [11, 6, 12, 10], [6, 12, 10, 6], [12, 10, 6, 15], [10, 6, 15, 5], [6, 15, 5, 10], [15, 5, 10, 10], [5, 10, 10, 8], [10, 10, 8, 4], [10, 8, 4, 9], [8, 4, 9, 6], [4, 9, 6, 12], [9, 6, 12, 9], [6, 12, 9, 9], [12, 9, 9, 8], [9, 9, 8, 10], [9, 8, 10, 14], [8, 10, 14, 9], [10, 14, 9, 8], [14, 9, 8, 10], [9, 8, 10, 14], [8, 10, 14, 5], [10, 14, 5, 16], [14, 5, 16, 9], [5, 16, 9, 3], [16, 9, 3, 10], [9, 3, 10, 9], [3, 10, 9, 10], [10, 9, 10, 11], [9, 10, 11, 11], [10, 11, 11, 8], [11, 11, 8, 9], [11, 8, 9, 15], [8, 9, 15, 9], [9, 15, 9, 10], [15, 9, 10, 14], [9, 10, 14, 6], [10, 14, 6, 13], [14, 6, 13, 17], [6, 13, 17, 9], [13, 17, 9, 9], [17, 9, 9, 11], [9, 9, 11, 15], [9, 11, 15, 21], [11, 15, 21, 7], [15, 21, 7, 10], [21, 7, 10, 19], [7, 10, 19, 5], [10, 19, 5, 17], [19, 5, 17, 8], [5, 17, 8, 13], [17, 8, 13, 16], [8, 13, 16, 13], [13, 16, 13, 7], [16, 13, 7, 11], [13, 7, 11, 16], [7, 11, 16, 4], [11, 16, 4, 9], [16, 4, 9, 12], [4, 9, 12, 10], [9, 12, 10, 5], [12, 10, 5, 8], [10, 5, 8, 10], [5, 8, 10, 14], [8, 10, 14, 16], [10, 14, 16, 8], [14, 16, 8, 6], [16, 8, 6, 9], [8, 6, 9, 21], [6, 9, 21, 7], [9, 21, 7, 15], [21, 7, 15, 8], [7, 15, 8, 8], [15, 8, 8, 12], [8, 8, 12, 11], [8, 12, 11, 11], [12, 11, 11, 14], [11, 11, 14, 5], [11, 14, 5, 21], [14, 5, 21, 10], [5, 21, 10, 14], [21, 10, 14, 5], [10, 14, 5, 13], [14, 5, 13, 9], [5, 13, 9, 18], [13, 9, 18, 14], [9, 18, 14, 9], [18, 14, 9, 13], [14, 9, 13, 13], [9, 13, 13, 17], [13, 13, 17, 8], [13, 17, 8, 20], [17, 8, 20, 4], [8, 20, 4, 9], [20, 4, 9, 13], [4, 9, 13, 8], [9, 13, 8, 14], [13, 8, 14, 16], [8, 14, 16, 10], [14, 16, 10, 19], [16, 10, 19, 12], [10, 19, 12, 16], [19, 12, 16, 9], [12, 16, 9, 13], [16, 9, 13, 10], [9, 13, 10, 4], [13, 10, 4, 14], [10, 4, 14, 7], [4, 14, 7, 10], [14, 7, 10, 0], [7, 10, 0, 12], [10, 0, 12, 5], [0, 12, 5, 1], [12, 5, 1, 12], [5, 1, 12, 10], [1, 12, 10, 3], [12, 10, 3, 13], [10, 3, 13, 1], [3, 13, 1, 6], [13, 1, 6, 9], [1, 6, 9, 8], [6, 9, 8, 5], [9, 8, 5, 10], [8, 5, 10, 8], [5, 10, 8, 9], [10, 8, 9, 9], [8, 9, 9, 16], [9, 9, 16, 6], [9, 16, 6, 10], [16, 6, 10, 11], [6, 10, 11, 7], [10, 11, 7, 20], [11, 7, 20, 18], [7, 20, 18, 8], [20, 18, 8, 7], [18, 8, 7, 15], [8, 7, 15, 3], [7, 15, 3, 12], [15, 3, 12, 8], [3, 12, 8, 6], [12, 8, 6, 10], [8, 6, 10, 10], [6, 10, 10, 8], [10, 10, 8, 9], [10, 8, 9, 10], [8, 9, 10, 6], [9, 10, 6, 15], [10, 6, 15, 18], [6, 15, 18, 12], [15, 18, 12, 11], [18, 12, 11, 11], [12, 11, 11, 5], [11, 11, 5, 9], [11, 5, 9, 9], [5, 9, 9, 2], [9, 9, 2, 12], [9, 2, 12, 10], [2, 12, 10, 9], [12, 10, 9, 8], [10, 9, 8, 12], [9, 8, 12, 13], [8, 12, 13, 10], [12, 13, 10, 16], [13, 10, 16, 9], [10, 16, 9, 9], [16, 9, 9, 18], [9, 9, 18, 7], [9, 18, 7, 15], [18, 7, 15, 17], [7, 15, 17, 10], [15, 17, 10, 15], [17, 10, 15, 10], [10, 15, 10, 10], [15, 10, 10, 9], [10, 10, 9, 7], [10, 9, 7, 17], [9, 7, 17, 10], [7, 17, 10, 17], [17, 10, 17, 7], [10, 17, 7, 13], [17, 7, 13, 8], [7, 13, 8, 9], [13, 8, 9, 10], [8, 9, 10, 11], [9, 10, 11, 8], [10, 11, 8, 6], [11, 8, 6, 15], [8, 6, 15, 11], [6, 15, 11, 9], [15, 11, 9, 16], [11, 9, 16, 15], [9, 16, 15, 13], [16, 15, 13, 6], [15, 13, 6, 6], [13, 6, 6, 5], [6, 6, 5, 14], [6, 5, 14, 13], [5, 14, 13, 12], [14, 13, 12, 17], [13, 12, 17, 4], [12, 17, 4, 8], [17, 4, 8, 7], [4, 8, 7, 5], [8, 7, 5, 10], [7, 5, 10, 12], [5, 10, 12, 11], [10, 12, 11, 14], [12, 11, 14, 13], [11, 14, 13, 15], [14, 13, 15, 15], [13, 15, 15, 20], [15, 15, 20, 11], [15, 20, 11, 16], [20, 11, 16, 11], [11, 16, 11, 6], [16, 11, 6, 11], [11, 6, 11, 21], [6, 11, 21, 9], [11, 21, 9, 8], [21, 9, 8, 10], [9, 8, 10, 0], [8, 10, 0, 11], [10, 0, 11, 18], [0, 11, 18, 13], [11, 18, 13, 12], [18, 13, 12, 17], [13, 12, 17, 5], [12, 17, 5, 12], [17, 5, 12, 13], [5, 12, 13, 12], [12, 13, 12, 3], [13, 12, 3, 9], [12, 3, 9, 13], [3, 9, 13, 3], [9, 13, 3, 7], [13, 3, 7, 13], [3, 7, 13, 5], [7, 13, 5, 7], [13, 5, 7, 12], [5, 7, 12, 5], [7, 12, 5, 6], [12, 5, 6, 12], [5, 6, 12, 6], [6, 12, 6, 7], [12, 6, 7, 8], [6, 7, 8, 5], [7, 8, 5, 11], [8, 5, 11, 11], [5, 11, 11, 16], [11, 11, 16, 11], [11, 16, 11, 16], [16, 11, 16, 6], [11, 16, 6, 6], [16, 6, 6, 19], [6, 6, 19, 2], [6, 19, 2, 7], [19, 2, 7, 20], [2, 7, 20, 6], [7, 20, 6, 8], [20, 6, 8, 18], [6, 8, 18, 5], [8, 18, 5, 8], [18, 5, 8, 13], [5, 8, 13, 5], [8, 13, 5, 13], [13, 5, 13, 12], [5, 13, 12, 10], [13, 12, 10, 7], [12, 10, 7, 20], [10, 7, 20, 5], [7, 20, 5, 8], [20, 5, 8, 14], [5, 8, 14, 8], [8, 14, 8, 9], [14, 8, 9, 17], [8, 9, 17, 10], [9, 17, 10, 5], [17, 10, 5, 10], [10, 5, 10, 7], [5, 10, 7, 9], [10, 7, 9, 21], [7, 9, 21, 9], [9, 21, 9, 5], [21, 9, 5, 12], [9, 5, 12, 16], [5, 12, 16, 9], [12, 16, 9, 17], [16, 9, 17, 9], [9, 17, 9, 14], [17, 9, 14, 16], [9, 14, 16, 13], [14, 16, 13, 10], [16, 13, 10, 16], [13, 10, 16, 13], [10, 16, 13, 6], [16, 13, 6, 13], [13, 6, 13, 10], [6, 13, 10, 15], [13, 10, 15, 9], [10, 15, 9, 15], [15, 9, 15, 13], [9, 15, 13, 8], [15, 13, 8, 9], [13, 8, 9, 11], [8, 9, 11, 7], [9, 11, 7, 14], [11, 7, 14, 12], [7, 14, 12, 14], [14, 12, 14, 8], [12, 14, 8, 10], [14, 8, 10, 10], [8, 10, 10, 12], [10, 10, 12, 12], [10, 12, 12, 10], [12, 12, 10, 10], [12, 10, 10, 6], [10, 10, 6, 15], [10, 6, 15, 8], [6, 15, 8, 7], [15, 8, 7, 20], [8, 7, 20, 3], [7, 20, 3, 9], [20, 3, 9, 16], [3, 9, 16, 3], [9, 16, 3, 7], [16, 3, 7, 12], [3, 7, 12, 3], [7, 12, 3, 7], [12, 3, 7, 17], [3, 7, 17, 7], [7, 17, 7, 8], [17, 7, 8, 17], [7, 8, 17, 6], [8, 17, 6, 8], [17, 6, 8, 15], [6, 8, 15, 15], [8, 15, 15, 13], [15, 15, 13, 21], [15, 13, 21, 9], [13, 21, 9, 12], [21, 9, 12, 20], [9, 12, 20, 3], [12, 20, 3, 7], [20, 3, 7, 11], [3, 7, 11, 11], [7, 11, 11, 7], [11, 11, 7, 16], [11, 7, 16, 7], [7, 16, 7, 5], [16, 7, 5, 9], [7, 5, 9, 4], [5, 9, 4, 8], [9, 4, 8, 10], [4, 8, 10, 2], [8, 10, 2, 2], [10, 2, 2, 13], [2, 2, 13, 8], [2, 13, 8, 8], [13, 8, 8, 10], [8, 8, 10, 6], [8, 10, 6, 10], [10, 6, 10, 14], [6, 10, 14, 5], [10, 14, 5, 8], [14, 5, 8, 17], [5, 8, 17, 9], [8, 17, 9, 12], [17, 9, 12, 14], [9, 12, 14, 3], [12, 14, 3, 6], [14, 3, 6, 7], [3, 6, 7, 11], [6, 7, 11, 10], [7, 11, 10, 13], [11, 10, 13, 3], [10, 13, 3, 13], [13, 3, 13, 10], [3, 13, 10, 2], [13, 10, 2, 2], [10, 2, 2, 21], [2, 2, 21, 5], [2, 21, 5, 14], [21, 5, 14, 14], [5, 14, 14, 4], [14, 14, 4, 10], [14, 4, 10, 17], [4, 10, 17, 8], [10, 17, 8, 14], [17, 8, 14, 14], [8, 14, 14, 4], [14, 14, 4, 6], [14, 4, 6, 15], [4, 6, 15, 1], [6, 15, 1, 4], [15, 1, 4, 17], [1, 4, 17, 8], [4, 17, 8, 5], [17, 8, 5, 20], [8, 5, 20, 6], [5, 20, 6, 6], [20, 6, 6, 15], [6, 6, 15, 11], [6, 15, 11, 7], [15, 11, 7, 23], [11, 7, 23, 9], [7, 23, 9, 12], [23, 9, 12, 27], [9, 12, 27, 4], [12, 27, 4, 6], [27, 4, 6, 17], [4, 6, 17, 8], [6, 17, 8, 5], [17, 8, 5, 15], [8, 5, 15, 8], [5, 15, 8, 9], [15, 8, 9, 9], [8, 9, 9, 6], [9, 9, 6, 12], [9, 6, 12, 22], [6, 12, 22, 5], [12, 22, 5, 1], [22, 5, 1, 25], [5, 1, 25, 7], [1, 25, 7, 11], [25, 7, 11, 14], [7, 11, 14, 9], [11, 14, 9, 8], [14, 9, 8, 21], [9, 8, 21, 9], [8, 21, 9, 6], [21, 9, 6, 16], [9, 6, 16, 8], [6, 16, 8, 8], [16, 8, 8, 15], [8, 8, 15, 8], [8, 15, 8, 9], [15, 8, 9, 12], [8, 9, 12, 5], [9, 12, 5, 12], [12, 5, 12, 14], [5, 12, 14, 15], [12, 14, 15, 12], [14, 15, 12, 21], [15, 12, 21, 6], [12, 21, 6, 6], [21, 6, 6, 8], [6, 6, 8, 11], [6, 8, 11, 12], [8, 11, 12, 6], [11, 12, 6, 17], [12, 6, 17, 7], [6, 17, 7, 20], [17, 7, 20, 4], [7, 20, 4, 5], [20, 4, 5, 9], [4, 5, 9, 15], [5, 9, 15, 13], [9, 15, 13, 17], [15, 13, 17, 11], [13, 17, 11, 3], [17, 11, 3, 8], [11, 3, 8, 16], [3, 8, 16, 17], [8, 16, 17, 19], [16, 17, 19, 6], [17, 19, 6, 6], [19, 6, 6, 19], [6, 6, 19, 3], [6, 19, 3, 5], [19, 3, 5, 8], [3, 5, 8, 3], [5, 8, 3, 0], [8, 3, 0, 7], [3, 0, 7, 1], [0, 7, 1, 3], [7, 1, 3, 7], [1, 3, 7, 3], [3, 7, 3, 9], [7, 3, 9, 5], [3, 9, 5, 2], [9, 5, 2, 13], [5, 2, 13, 1], [2, 13, 1, 3], [13, 1, 3, 11], [1, 3, 11, 0], [3, 11, 0, 4], [11, 0, 4, 11], [0, 4, 11, 0], [4, 11, 0, 5], [11, 0, 5, 19], [0, 5, 19, 0], [5, 19, 0, 3], [19, 0, 3, 15], [0, 3, 15, 1], [3, 15, 1, 7], [15, 1, 7, 15], [1, 7, 15, 0], [7, 15, 0, 3], [15, 0, 3, 16], [0, 3, 16, 1], [3, 16, 1, 7], [16, 1, 7, 13], [1, 7, 13, 2], [7, 13, 2, 8], [13, 2, 8, 13], [2, 8, 13, 6], [8, 13, 6, 7], [13, 6, 7, 7], [6, 7, 7, 6], [7, 7, 6, 8], [7, 6, 8, 14], [6, 8, 14, 5], [8, 14, 5, 14], [14, 5, 14, 4], [5, 14, 4, 5], [14, 4, 5, 13], [4, 5, 13, 7], [5, 13, 7, 1], [13, 7, 1, 10], [7, 1, 10, 5], [1, 10, 5, 5], [10, 5, 5, 12], [5, 5, 12, 11], [5, 12, 11, 7], [12, 11, 7, 3], [11, 7, 3, 18], [7, 3, 18, 10], [3, 18, 10, 6], [18, 10, 6, 9], [10, 6, 9, 3], [6, 9, 3, 8], [9, 3, 8, 10], [3, 8, 10, 4], [8, 10, 4, 13], [10, 4, 13, 20], [4, 13, 20, 5], [13, 20, 5, 15], [20, 5, 15, 1], [5, 15, 1, 5], [15, 1, 5, 4], [1, 5, 4, 12], [5, 4, 12, 2], [4, 12, 2, 12], [12, 2, 12, 9], [2, 12, 9, 4], [12, 9, 4, 8], [9, 4, 8, 12], [4, 8, 12, 3], [8, 12, 3, 16], [12, 3, 16, 8], [3, 16, 8, 7], [16, 8, 7, 11], [8, 7, 11, 12], [7, 11, 12, 9], [11, 12, 9, 11], [12, 9, 11, 8], [9, 11, 8, 11], [11, 8, 11, 8], [8, 11, 8, 9], [11, 8, 9, 6], [8, 9, 6, 15], [9, 6, 15, 6], [6, 15, 6, 3], [15, 6, 3, 9], [6, 3, 9, 5], [3, 9, 5, 5], [9, 5, 5, 15], [5, 5, 15, 10], [5, 15, 10, 5], [15, 10, 5, 7], [10, 5, 7, 13], [5, 7, 13, 8], [7, 13, 8, 12], [13, 8, 12, 9], [8, 12, 9, 9], [12, 9, 9, 18], [9, 9, 18, 5], [9, 18, 5, 5], [18, 5, 5, 13], [5, 5, 13, 7], [5, 13, 7, 9], [13, 7, 9, 10], [7, 9, 10, 5], [9, 10, 5, 12], [10, 5, 12, 17], [5, 12, 17, 6], [12, 17, 6, 6], [17, 6, 6, 16], [6, 6, 16, 4], [6, 16, 4, 8], [16, 4, 8, 2], [4, 8, 2, 8], [8, 2, 8, 2], [2, 8, 2, 3], [8, 2, 3, 4], [2, 3, 4, 2], [3, 4, 2, 1], [4, 2, 1, 0], [2, 1, 0, 1], [1, 0, 1, 8], [0, 1, 8, 1], [1, 8, 1, 4], [8, 1, 4, 8], [1, 4, 8, 1], [4, 8, 1, 8], [8, 1, 8, 2], [1, 8, 2, 2], [8, 2, 2, 7], [2, 2, 7, 2], [2, 7, 2, 2], [7, 2, 2, 1], [2, 2, 1, 1], [2, 1, 1, 16], [1, 1, 16, 1], [1, 16, 1, 4], [16, 1, 4, 6], [1, 4, 6, 1], [4, 6, 1, 6], [6, 1, 6, 0], [1, 6, 0, 2], [6, 0, 2, 7], [0, 2, 7, 2], [2, 7, 2, 4], [7, 2, 4, 11], [2, 4, 11, 2], [4, 11, 2, 4], [11, 2, 4, 13], [2, 4, 13, 7], [4, 13, 7, 8], [13, 7, 8, 1], [7, 8, 1, 5], [8, 1, 5, 6], [1, 5, 6, 5], [5, 6, 5, 3], [6, 5, 3, 4], [5, 3, 4, 2], [3, 4, 2, 7], [4, 2, 7, 11], [2, 7, 11, 1], [7, 11, 1, 7], [11, 1, 7, 8], [1, 7, 8, 9], [7, 8, 9, 5], [8, 9, 5, 4], [9, 5, 4, 4], [5, 4, 4, 14], [4, 4, 14, 4], [4, 14, 4, 6], [14, 4, 6, 6], [4, 6, 6, 5], [6, 6, 5, 6], [6, 5, 6, 12], [5, 6, 12, 0], [6, 12, 0, 7], [12, 0, 7, 8], [0, 7, 8, 7], [7, 8, 7, 5], [8, 7, 5, 14], [7, 5, 14, 11], [5, 14, 11, 5], [14, 11, 5, 6], [11, 5, 6, 1], [5, 6, 1, 5], [6, 1, 5, 11], [1, 5, 11, 2], [5, 11, 2, 1], [11, 2, 1, 15], [2, 1, 15, 6], [1, 15, 6, 9], [15, 6, 9, 13], [6, 9, 13, 10], [9, 13, 10, 10], [13, 10, 10, 11], [10, 10, 11, 4], [10, 11, 4, 10], [11, 4, 10, 11], [4, 10, 11, 0], [10, 11, 0, 2], [11, 0, 2, 13], [0, 2, 13, 7], [2, 13, 7, 8], [13, 7, 8, 13], [7, 8, 13, 0], [8, 13, 0, 9], [13, 0, 9, 8], [0, 9, 8, 2], [9, 8, 2, 10], [8, 2, 10, 14], [2, 10, 14, 0], [10, 14, 0, 5], [14, 0, 5, 8], [0, 5, 8, 6], [5, 8, 6, 5], [8, 6, 5, 9], [6, 5, 9, 5], [5, 9, 5, 7], [9, 5, 7, 16], [5, 7, 16, 6], [7, 16, 6, 8], [16, 6, 8, 7], [6, 8, 7, 3], [8, 7, 3, 9], [7, 3, 9, 6], [3, 9, 6, 3], [9, 6, 3, 18], [6, 3, 18, 0], [3, 18, 0, 10], [18, 0, 10, 13], [0, 10, 13, 0], [10, 13, 0, 6], [13, 0, 6, 11], [0, 6, 11, 5], [6, 11, 5, 5], [11, 5, 5, 16], [5, 5, 16, 0], [5, 16, 0, 13], [16, 0, 13, 9], [0, 13, 9, 9], [13, 9, 9, 5], [9, 9, 5, 11], [9, 5, 11, 7], [5, 11, 7, 3], [11, 7, 3, 13], [7, 3, 13, 10], [3, 13, 10, 6], [13, 10, 6, 11], [10, 6, 11, 9], [6, 11, 9, 6], [11, 9, 6, 10], [9, 6, 10, 7], [6, 10, 7, 12], [10, 7, 12, 10], [7, 12, 10, 10], [12, 10, 10, 26], [10, 10, 26, 17], [10, 26, 17, 4], [26, 17, 4, 8], [17, 4, 8, 12], [4, 8, 12, 6], [8, 12, 6, 7], [12, 6, 7, 11], [6, 7, 11, 5], [7, 11, 5, 5], [11, 5, 5, 12], [5, 5, 12, 4], [5, 12, 4, 4], [12, 4, 4, 10], [4, 4, 10, 11], [4, 10, 11, 6], [10, 11, 6, 19], [11, 6, 19, 3], [6, 19, 3, 5], [19, 3, 5, 15], [3, 5, 15, 1], [5, 15, 1, 6], [15, 1, 6, 12], [1, 6, 12, 10], [6, 12, 10, 5], [12, 10, 5, 20], [10, 5, 20, 6], [5, 20, 6, 7], [20, 6, 7, 15], [6, 7, 15, 7], [7, 15, 7, 8], [15, 7, 8, 14], [7, 8, 14, 8], [8, 14, 8, 10], [14, 8, 10, 20], [8, 10, 20, 5], [10, 20, 5, 9], [20, 5, 9, 24], [5, 9, 24, 9], [9, 24, 9, 16], [24, 9, 16, 17], [9, 16, 17, 9], [16, 17, 9, 11], [17, 9, 11, 8], [9, 11, 8, 4], [11, 8, 4, 17], [8, 4, 17, 10], [4, 17, 10, 10], [17, 10, 10, 9], [10, 10, 9, 8], [10, 9, 8, 1], [9, 8, 1, 11], [8, 1, 11, 13], [1, 11, 13, 2], [11, 13, 2, 10], [13, 2, 10, 9], [2, 10, 9, 7], [10, 9, 7, 12], [9, 7, 12, 12], [7, 12, 12, 5], [12, 12, 5, 15], [12, 5, 15, 12], [5, 15, 12, 4], [15, 12, 4, 16], [12, 4, 16, 17], [4, 16, 17, 8], [16, 17, 8, 6], [17, 8, 6, 20], [8, 6, 20, 7], [6, 20, 7, 9], [20, 7, 9, 18], [7, 9, 18, 2], [9, 18, 2, 15], [18, 2, 15, 11], [2, 15, 11, 6], [15, 11, 6, 14], [11, 6, 14, 18], [6, 14, 18, 8], [14, 18, 8, 10], [18, 8, 10, 17], [8, 10, 17, 3], [10, 17, 3, 16], [17, 3, 16, 17], [3, 16, 17, 2], [16, 17, 2, 6], [17, 2, 6, 23], [2, 6, 23, 2], [6, 23, 2, 14], [23, 2, 14, 20], [2, 14, 20, 5], [14, 20, 5, 8], [20, 5, 8, 18], [5, 8, 18, 4], [8, 18, 4, 10], [18, 4, 10, 17], [4, 10, 17, 5], [10, 17, 5, 2], [17, 5, 2, 7], [5, 2, 7, 0], [2, 7, 0, 6], [7, 0, 6, 7], [0, 6, 7, 2], [6, 7, 2, 5], [7, 2, 5, 12], [2, 5, 12, 3], [5, 12, 3, 4], [12, 3, 4, 19], [3, 4, 19, 2], [4, 19, 2, 7], [19, 2, 7, 11], [2, 7, 11, 0], [7, 11, 0, 8], [11, 0, 8, 8], [0, 8, 8, 6], [8, 8, 6, 10], [8, 6, 10, 21], [6, 10, 21, 1], [10, 21, 1, 13], [21, 1, 13, 11], [1, 13, 11, 6], [13, 11, 6, 8], [11, 6, 8, 14], [6, 8, 14, 3], [8, 14, 3, 14], [14, 3, 14, 18], [3, 14, 18, 3], [14, 18, 3, 3], [18, 3, 3, 12], [3, 3, 12, 4], [3, 12, 4, 19], [12, 4, 19, 18], [4, 19, 18, 0], [19, 18, 0, 5], [18, 0, 5, 16], [0, 5, 16, 1], [5, 16, 1, 5], [16, 1, 5, 17], [1, 5, 17, 4], [5, 17, 4, 3], [17, 4, 3, 26], [4, 3, 26, 5], [3, 26, 5, 7], [26, 5, 7, 18], [5, 7, 18, 0], [7, 18, 0, 5], [18, 0, 5, 24], [0, 5, 24, 2], [5, 24, 2, 8], [24, 2, 8, 24], [2, 8, 24, 3], [8, 24, 3, 11], [24, 3, 11, 12], [3, 11, 12, 9], [11, 12, 9, 20], [12, 9, 20, 19], [9, 20, 19, 0], [20, 19, 0, 22], [19, 0, 22, 13], [0, 22, 13, 7], [22, 13, 7, 12], [13, 7, 12, 19], [7, 12, 19, 1], [12, 19, 1, 9], [19, 1, 9, 22], [1, 9, 22, 1], [9, 22, 1, 8], [22, 1, 8, 15], [1, 8, 15, 1], [8, 15, 1, 12], [15, 1, 12, 17], [1, 12, 17, 1], [12, 17, 1, 18], [17, 1, 18, 22], [1, 18, 22, 2], [18, 22, 2, 9], [22, 2, 9, 18], [2, 9, 18, 2], [9, 18, 2, 16], [18, 2, 16, 15], [2, 16, 15, 3], [16, 15, 3, 9], [15, 3, 9, 12], [3, 9, 12, 2], [9, 12, 2, 9], [12, 2, 9, 13], [2, 9, 13, 4], [9, 13, 4, 17], [13, 4, 17, 15], [4, 17, 15, 9], [17, 15, 9, 12], [15, 9, 12, 16], [9, 12, 16, 2], [12, 16, 2, 9], [16, 2, 9, 21], [2, 9, 21, 2], [9, 21, 2, 12], [21, 2, 12, 19], [2, 12, 19, 4], [12, 19, 4, 15], [19, 4, 15, 24], [4, 15, 24, 4], [15, 24, 4, 7], [24, 4, 7, 15], [4, 7, 15, 0], [7, 15, 0, 14], [15, 0, 14, 25], [0, 14, 25, 4], [14, 25, 4, 10], [25, 4, 10, 25], [4, 10, 25, 2], [10, 25, 2, 6], [25, 2, 6, 13], [2, 6, 13, 2], [6, 13, 2, 10], [13, 2, 10, 15], [2, 10, 15, 3], [10, 15, 3, 7], [15, 3, 7, 12], [3, 7, 12, 0], [7, 12, 0, 7], [12, 0, 7, 11], [0, 7, 11, 1], [7, 11, 1, 7], [11, 1, 7, 11], [1, 7, 11, 1], [7, 11, 1, 14], [11, 1, 14, 6], [1, 14, 6, 0], [14, 6, 0, 6], [6, 0, 6, 17], [0, 6, 17, 2], [6, 17, 2, 10], [17, 2, 10, 25], [2, 10, 25, 0], [10, 25, 0, 13], [25, 0, 13, 19], [0, 13, 19, 4], [13, 19, 4, 11], [19, 4, 11, 20], [4, 11, 20, 1], [11, 20, 1, 9], [20, 1, 9, 13], [1, 9, 13, 0], [9, 13, 0, 6], [13, 0, 6, 29], [0, 6, 29, 1], [6, 29, 1, 13], [29, 1, 13, 20], [1, 13, 20, 0], [13, 20, 0, 12], [20, 0, 12, 19], [0, 12, 19, 4], [12, 19, 4, 1], [19, 4, 1, 23], [4, 1, 23, 7], [1, 23, 7, 24], [23, 7, 24, 17], [7, 24, 17, 1], [24, 17, 1, 14], [17, 1, 14, 21], [1, 14, 21, 0], [14, 21, 0, 22], [21, 0, 22, 21], [0, 22, 21, 4], [22, 21, 4, 9], [21, 4, 9, 18], [4, 9, 18, 3], [9, 18, 3, 20], [18, 3, 20, 21], [3, 20, 21, 0], [20, 21, 0, 6], [21, 0, 6, 17], [0, 6, 17, 0], [6, 17, 0, 18], [17, 0, 18, 16], [0, 18, 16, 6], [18, 16, 6, 19], [16, 6, 19, 20], [6, 19, 20, 0], [19, 20, 0, 5], [20, 0, 5, 15], [0, 5, 15, 5], [5, 15, 5, 7], [15, 5, 7, 11], [5, 7, 11, 0], [7, 11, 0, 18], [11, 0, 18, 20], [0, 18, 20, 0], [18, 20, 0, 16], [20, 0, 16, 10], [0, 16, 10, 0], [16, 10, 0, 21], [10, 0, 21, 14], [0, 21, 14, 4], [21, 14, 4, 12], [14, 4, 12, 19], [4, 12, 19, 0], [12, 19, 0, 17], [19, 0, 17, 12], [0, 17, 12, 4], [17, 12, 4, 20], [12, 4, 20, 22], [4, 20, 22, 5], [20, 22, 5, 18], [22, 5, 18, 25], [5, 18, 25, 2], [18, 25, 2, 11], [25, 2, 11, 30], [2, 11, 30, 1], [11, 30, 1, 11], [30, 1, 11, 19], [1, 11, 19, 5], [11, 19, 5, 10], [19, 5, 10, 19], [5, 10, 19, 2], [10, 19, 2, 12], [19, 2, 12, 19], [2, 12, 19, 1], [12, 19, 1, 5], [19, 1, 5, 25], [1, 5, 25, 1], [5, 25, 1, 8], [25, 1, 8, 17], [1, 8, 17, 1], [8, 17, 1, 10], [17, 1, 10, 25], [1, 10, 25, 4], [10, 25, 4, 8], [25, 4, 8, 15], [4, 8, 15, 5], [8, 15, 5, 14], [15, 5, 14, 9], [5, 14, 9, 3], [14, 9, 3, 7], [9, 3, 7, 19], [3, 7, 19, 3], [7, 19, 3, 2], [19, 3, 2, 14], [3, 2, 14, 7], [2, 14, 7, 5], [14, 7, 5, 13], [7, 5, 13, 9], [5, 13, 9, 9], [13, 9, 9, 14], [9, 9, 14, 9], [9, 14, 9, 6], [14, 9, 6, 8], [9, 6, 8, 15], [6, 8, 15, 4], [8, 15, 4, 7], [15, 4, 7, 6], [4, 7, 6, 11], [7, 6, 11, 10], [6, 11, 10, 11], [11, 10, 11, 5], [10, 11, 5, 14], [11, 5, 14, 15], [5, 14, 15, 7], [14, 15, 7, 7], [15, 7, 7, 11], [7, 7, 11, 4], [7, 11, 4, 14], [11, 4, 14, 6], [4, 14, 6, 4], [14, 6, 4, 7], [6, 4, 7, 14], [4, 7, 14, 0], [7, 14, 0, 11], [14, 0, 11, 17], [0, 11, 17, 3], [11, 17, 3, 14], [17, 3, 14, 10], [3, 14, 10, 6], [14, 10, 6, 4], [10, 6, 4, 12], [6, 4, 12, 7], [4, 12, 7, 10], [12, 7, 10, 17], [7, 10, 17, 5], [10, 17, 5, 15], [17, 5, 15, 9], [5, 15, 9, 3], [15, 9, 3, 13], [9, 3, 13, 12], [3, 13, 12, 4], [13, 12, 4, 8], [12, 4, 8, 25], [4, 8, 25, 4], [8, 25, 4, 3], [25, 4, 3, 17], [4, 3, 17, 6], [3, 17, 6, 9], [17, 6, 9, 18], [6, 9, 18, 7], [9, 18, 7, 5], [18, 7, 5, 15], [7, 5, 15, 12], [5, 15, 12, 9], [15, 12, 9, 16], [12, 9, 16, 9], [9, 16, 9, 5], [16, 9, 5, 23], [9, 5, 23, 5], [5, 23, 5, 17], [23, 5, 17, 12], [5, 17, 12, 6], [17, 12, 6, 11], [12, 6, 11, 13], [6, 11, 13, 12], [11, 13, 12, 15], [13, 12, 15, 11], [12, 15, 11, 8], [15, 11, 8, 5], [11, 8, 5, 8], [8, 5, 8, 10], [5, 8, 10, 13], [8, 10, 13, 10], [10, 13, 10, 19], [13, 10, 19, 10], [10, 19, 10, 10], [19, 10, 10, 12], [10, 10, 12, 10], [10, 12, 10, 18], [12, 10, 18, 13], [10, 18, 13, 10], [18, 13, 10, 14], [13, 10, 14, 9], [10, 14, 9, 13], [14, 9, 13, 7], [9, 13, 7, 10], [13, 7, 10, 10], [7, 10, 10, 17], [10, 10, 17, 5], [10, 17, 5, 9], [17, 5, 9, 16], [5, 9, 16, 10], [9, 16, 10, 8], [16, 10, 8, 13], [10, 8, 13, 6], [8, 13, 6, 10], [13, 6, 10, 16], [6, 10, 16, 6], [10, 16, 6, 11], [16, 6, 11, 13], [6, 11, 13, 14], [11, 13, 14, 9], [13, 14, 9, 15], [14, 9, 15, 10], [9, 15, 10, 4], [15, 10, 4, 20], [10, 4, 20, 12], [4, 20, 12, 9], [20, 12, 9, 12], [12, 9, 12, 8], [9, 12, 8, 9], [12, 8, 9, 14], [8, 9, 14, 5], [9, 14, 5, 7], [14, 5, 7, 4], [5, 7, 4, 9], [7, 4, 9, 3], [4, 9, 3, 5], [9, 3, 5, 9], [3, 5, 9, 3], [5, 9, 3, 4], [9, 3, 4, 6], [3, 4, 6, 3], [4, 6, 3, 1], [6, 3, 1, 6], [3, 1, 6, 17], [1, 6, 17, 3], [6, 17, 3, 5], [17, 3, 5, 8], [3, 5, 8, 1], [5, 8, 1, 3], [8, 1, 3, 7], [1, 3, 7, 3], [3, 7, 3, 5], [7, 3, 5, 15], [3, 5, 15, 2], [5, 15, 2, 6], [15, 2, 6, 2], [2, 6, 2, 3], [6, 2, 3, 1], [2, 3, 1, 0], [3, 1, 0, 3], [1, 0, 3, 8], [0, 3, 8, 8], [3, 8, 8, 2], [8, 8, 2, 5], [8, 2, 5, 12], [2, 5, 12, 6], [5, 12, 6, 10], [12, 6, 10, 9], [6, 10, 9, 6], [10, 9, 6, 2], [9, 6, 2, 10], [6, 2, 10, 4], [2, 10, 4, 6], [10, 4, 6, 6], [4, 6, 6, 2], [6, 6, 2, 3], [6, 2, 3, 10], [2, 3, 10, 1], [3, 10, 1, 6], [10, 1, 6, 10], [1, 6, 10, 9], [6, 10, 9, 7], [10, 9, 7, 14], [9, 7, 14, 4], [7, 14, 4, 8], [14, 4, 8, 12], [4, 8, 12, 1], [8, 12, 1, 9], [12, 1, 9, 10], [1, 9, 10, 3], [9, 10, 3, 7], [10, 3, 7, 8], [3, 7, 8, 9], [7, 8, 9, 9], [8, 9, 9, 10], [9, 9, 10, 3], [9, 10, 3, 6], [10, 3, 6, 11], [3, 6, 11, 2], [6, 11, 2, 9], [11, 2, 9, 13], [2, 9, 13, 3], [9, 13, 3, 9], [13, 3, 9, 5], [3, 9, 5, 3], [9, 5, 3, 7], [5, 3, 7, 19], [3, 7, 19, 6], [7, 19, 6, 5], [19, 6, 5, 8], [6, 5, 8, 4], [5, 8, 4, 11], [8, 4, 11, 9], [4, 11, 9, 5], [11, 9, 5, 5], [9, 5, 5, 8], [5, 5, 8, 3], [5, 8, 3, 5], [8, 3, 5, 14], [3, 5, 14, 4], [5, 14, 4, 9], [14, 4, 9, 15], [4, 9, 15, 2], [9, 15, 2, 5], [15, 2, 5, 15], [2, 5, 15, 1], [5, 15, 1, 4], [15, 1, 4, 9], [1, 4, 9, 7], [4, 9, 7, 17], [9, 7, 17, 12], [7, 17, 12, 4], [17, 12, 4, 6], [12, 4, 6, 11], [4, 6, 11, 5], [6, 11, 5, 7], [11, 5, 7, 16], [5, 7, 16, 6], [7, 16, 6, 3], [16, 6, 3, 16], [6, 3, 16, 12], [3, 16, 12, 8], [16, 12, 8, 12], [12, 8, 12, 12], [8, 12, 12, 5], [12, 12, 5, 14], [12, 5, 14, 10], [5, 14, 10, 10], [14, 10, 10, 15], [10, 10, 15, 5], [10, 15, 5, 1], [15, 5, 1, 4], [5, 1, 4, 2], [1, 4, 2, 2], [4, 2, 2, 6], [2, 2, 6, 5], [2, 6, 5, 3], [6, 5, 3, 2], [5, 3, 2, 5], [3, 2, 5, 4], [2, 5, 4, 5], [5, 4, 5, 4], [4, 5, 4, 2], [5, 4, 2, 3], [4, 2, 3, 4], [2, 3, 4, 0], [3, 4, 0, 3], [4, 0, 3, 5], [0, 3, 5, 1], [3, 5, 1, 4], [5, 1, 4, 1], [1, 4, 1, 2], [4, 1, 2, 5], [1, 2, 5, 2], [2, 5, 2, 10], [5, 2, 10, 0], [2, 10, 0, 3], [10, 0, 3, 8], [0, 3, 8, 0], [3, 8, 0, 7], [8, 0, 7, 4], [0, 7, 4, 2], [7, 4, 2, 7], [4, 2, 7, 0], [2, 7, 0, 1], [7, 0, 1, 5], [0, 1, 5, 1], [1, 5, 1, 4], [5, 1, 4, 10], [1, 4, 10, 3], [4, 10, 3, 5], [10, 3, 5, 11], [3, 5, 11, 0], [5, 11, 0, 2], [11, 0, 2, 9], [0, 2, 9, 3], [2, 9, 3, 4], [9, 3, 4, 8], [3, 4, 8, 6], [4, 8, 6, 3], [8, 6, 3, 6], [6, 3, 6, 4], [3, 6, 4, 9], [6, 4, 9, 0], [4, 9, 0, 1], [9, 0, 1, 8], [0, 1, 8, 2], [1, 8, 2, 2], [8, 2, 2, 13], [2, 2, 13, 3], [2, 13, 3, 2], [13, 3, 2, 8], [3, 2, 8, 0], [2, 8, 0, 8], [8, 0, 8, 7], [0, 8, 7, 3], [8, 7, 3, 9], [7, 3, 9, 6], [3, 9, 6, 5], [9, 6, 5, 11], [6, 5, 11, 2], [5, 11, 2, 5], [11, 2, 5, 9], [2, 5, 9, 1], [5, 9, 1, 6], [9, 1, 6, 13], [1, 6, 13, 5], [6, 13, 5, 12], [13, 5, 12, 12], [5, 12, 12, 2], [12, 12, 2, 3], [12, 2, 3, 7], [2, 3, 7, 3], [3, 7, 3, 5], [7, 3, 5, 5], [3, 5, 5, 2], [5, 5, 2, 2], [5, 2, 2, 8], [2, 2, 8, 3], [2, 8, 3, 8], [8, 3, 8, 7], [3, 8, 7, 4], [8, 7, 4, 12], [7, 4, 12, 10], [4, 12, 10, 3], [12, 10, 3, 5], [10, 3, 5, 13], [3, 5, 13, 2], [5, 13, 2, 9], [13, 2, 9, 6], [2, 9, 6, 3], [9, 6, 3, 3], [6, 3, 3, 15], [3, 3, 15, 6], [3, 15, 6, 5], [15, 6, 5, 12], [6, 5, 12, 2], [5, 12, 2, 11], [12, 2, 11, 12], [2, 11, 12, 7], [11, 12, 7, 13], [12, 7, 13, 2], [7, 13, 2, 4], [13, 2, 4, 7], [2, 4, 7, 11], [4, 7, 11, 3], [7, 11, 3, 5], [11, 3, 5, 5], [3, 5, 5, 1], [5, 5, 1, 10], [5, 1, 10, 3], [1, 10, 3, 1], [10, 3, 1, 6], [3, 1, 6, 1], [1, 6, 1, 3], [6, 1, 3, 2], [1, 3, 2, 3], [3, 2, 3, 2], [2, 3, 2, 1], [3, 2, 1, 1], [2, 1, 1, 3], [1, 1, 3, 3], [1, 3, 3, 5], [3, 3, 5, 2], [3, 5, 2, 10], [5, 2, 10, 3], [2, 10, 3, 6], [10, 3, 6, 1], [3, 6, 1, 3], [6, 1, 3, 9], [1, 3, 9, 4], [3, 9, 4, 4], [9, 4, 4, 3], [4, 4, 3, 11], [4, 3, 11, 5], [3, 11, 5, 3], [11, 5, 3, 3], [5, 3, 3, 2], [3, 3, 2, 1], [3, 2, 1, 8], [2, 1, 8, 6], [1, 8, 6, 6], [8, 6, 6, 2], [6, 6, 2, 3], [6, 2, 3, 4], [2, 3, 4, 4], [3, 4, 4, 3], [4, 4, 3, 7], [4, 3, 7, 4], [3, 7, 4, 4], [7, 4, 4, 7], [4, 4, 7, 2], [4, 7, 2, 13], [7, 2, 13, 5], [2, 13, 5, 7], [13, 5, 7, 5], [5, 7, 5, 6], [7, 5, 6, 2], [5, 6, 2, 9], [6, 2, 9, 2], [2, 9, 2, 3], [9, 2, 3, 12], [2, 3, 12, 2], [3, 12, 2, 5], [12, 2, 5, 16], [2, 5, 16, 3], [5, 16, 3, 4], [16, 3, 4, 5], [3, 4, 5, 3], [4, 5, 3, 0], [5, 3, 0, 7], [3, 0, 7, 4], [0, 7, 4, 7], [7, 4, 7, 3], [4, 7, 3, 3], [7, 3, 3, 10], [3, 3, 10, 4], [3, 10, 4, 3], [10, 4, 3, 13], [4, 3, 13, 2], [3, 13, 2, 4], [13, 2, 4, 5], [2, 4, 5, 1], [4, 5, 1, 8], [5, 1, 8, 14], [1, 8, 14, 2], [8, 14, 2, 2], [14, 2, 2, 7], [2, 2, 7, 4], [2, 7, 4, 3], [7, 4, 3, 7], [4, 3, 7, 2], [3, 7, 2, 2], [7, 2, 2, 9], [2, 2, 9, 4], [2, 9, 4, 3], [9, 4, 3, 9], [4, 3, 9, 2], [3, 9, 2, 7], [9, 2, 7, 16], [2, 7, 16, 2], [7, 16, 2, 7], [16, 2, 7, 1], [2, 7, 1, 4], [7, 1, 4, 6], [1, 4, 6, 10], [4, 6, 10, 6], [6, 10, 6, 7], [10, 6, 7, 8], [6, 7, 8, 5], [7, 8, 5, 12], [8, 5, 12, 2], [5, 12, 2, 5], [12, 2, 5, 9], [2, 5, 9, 2], [5, 9, 2, 4], [9, 2, 4, 8], [2, 4, 8, 14], [4, 8, 14, 3], [8, 14, 3, 10], [14, 3, 10, 14], [3, 10, 14, 6], [10, 14, 6, 11], [14, 6, 11, 0], [6, 11, 0, 6], [11, 0, 6, 11], [0, 6, 11, 2], [6, 11, 2, 7], [11, 2, 7, 20], [2, 7, 20, 6], [7, 20, 6, 17], [20, 6, 17, 6], [6, 17, 6, 4], [17, 6, 4, 15], [6, 4, 15, 4], [4, 15, 4, 7], [15, 4, 7, 17], [4, 7, 17, 6], [7, 17, 6, 3], [17, 6, 3, 13], [6, 3, 13, 2], [3, 13, 2, 7], [13, 2, 7, 13], [2, 7, 13, 1], [7, 13, 1, 3], [13, 1, 3, 10], [1, 3, 10, 9], [3, 10, 9, 7], [10, 9, 7, 16], [9, 7, 16, 7], [7, 16, 7, 6], [16, 7, 6, 20], [7, 6, 20, 4], [6, 20, 4, 8], [20, 4, 8, 12], [4, 8, 12, 7], [8, 12, 7, 9], [12, 7, 9, 14], [7, 9, 14, 7], [9, 14, 7, 5], [14, 7, 5, 17], [7, 5, 17, 11], [5, 17, 11, 8], [17, 11, 8, 14], [11, 8, 14, 7], [8, 14, 7, 7], [14, 7, 7, 16], [7, 7, 16, 5], [7, 16, 5, 6], [16, 5, 6, 13], [5, 6, 13, 8], [6, 13, 8, 5], [13, 8, 5, 18], [8, 5, 18, 3], [5, 18, 3, 11], [18, 3, 11, 19], [3, 11, 19, 7], [11, 19, 7, 5], [19, 7, 5, 24], [7, 5, 24, 2], [5, 24, 2, 8], [24, 2, 8, 21], [2, 8, 21, 3], [8, 21, 3, 11], [21, 3, 11, 14], [3, 11, 14, 4], [11, 14, 4, 12], [14, 4, 12, 11], [4, 12, 11, 4], [12, 11, 4, 8], [11, 4, 8, 14], [4, 8, 14, 1], [8, 14, 1, 10], [14, 1, 10, 24], [1, 10, 24, 7], [10, 24, 7, 7], [24, 7, 7, 19], [7, 7, 19, 11], [7, 19, 11, 9], [19, 11, 9, 18], [11, 9, 18, 8], [9, 18, 8, 6], [18, 8, 6, 20], [8, 6, 20, 4], [6, 20, 4, 8], [20, 4, 8, 19], [4, 8, 19, 5], [8, 19, 5, 7], [19, 5, 7, 18], [5, 7, 18, 2], [7, 18, 2, 6], [18, 2, 6, 12], [2, 6, 12, 9], [6, 12, 9, 10], [12, 9, 10, 20], [9, 10, 20, 7], [10, 20, 7, 6], [20, 7, 6, 16], [7, 6, 16, 5], [6, 16, 5, 7], [16, 5, 7, 23], [5, 7, 23, 3], [7, 23, 3, 2], [23, 3, 2, 31], [3, 2, 31, 5], [2, 31, 5, 7], [31, 5, 7, 14], [5, 7, 14, 10], [7, 14, 10, 8], [14, 10, 8, 9], [10, 8, 9, 8], [8, 9, 8, 11], [9, 8, 11, 20], [8, 11, 20, 5], [11, 20, 5, 7], [20, 5, 7, 26], [5, 7, 26, 7], [7, 26, 7, 6], [26, 7, 6, 16], [7, 6, 16, 8], [6, 16, 8, 8], [16, 8, 8, 16], [8, 8, 16, 6], [8, 16, 6, 8], [16, 6, 8, 16], [6, 8, 16, 8], [8, 16, 8, 15], [16, 8, 15, 15], [8, 15, 15, 4], [15, 15, 4, 12], [15, 4, 12, 5], [4, 12, 5, 5], [12, 5, 5, 3], [5, 5, 3, 5], [5, 3, 5, 14], [3, 5, 14, 6], [5, 14, 6, 3], [14, 6, 3, 16], [6, 3, 16, 3], [3, 16, 3, 4], [16, 3, 4, 16], [3, 4, 16, 5], [4, 16, 5, 9], [16, 5, 9, 19], [5, 9, 19, 2], [9, 19, 2, 4], [19, 2, 4, 12], [2, 4, 12, 3], [4, 12, 3, 7], [12, 3, 7, 15], [3, 7, 15, 4], [7, 15, 4, 4], [15, 4, 4, 16], [4, 4, 16, 6], [4, 16, 6, 6], [16, 6, 6, 16], [6, 6, 16, 3], [6, 16, 3, 9], [16, 3, 9, 15], [3, 9, 15, 2], [9, 15, 2, 7], [15, 2, 7, 17], [2, 7, 17, 4], [7, 17, 4, 10], [17, 4, 10, 27], [4, 10, 27, 3], [10, 27, 3, 7], [27, 3, 7, 14], [3, 7, 14, 0], [7, 14, 0, 7], [14, 0, 7, 15], [0, 7, 15, 5], [7, 15, 5, 5], [15, 5, 5, 19], [5, 5, 19, 6], [5, 19, 6, 8], [19, 6, 8, 23], [6, 8, 23, 2], [8, 23, 2, 6], [23, 2, 6, 20], [2, 6, 20, 2], [6, 20, 2, 6], [20, 2, 6, 18], [2, 6, 18, 8], [6, 18, 8, 13], [18, 8, 13, 25], [8, 13, 25, 1], [13, 25, 1, 5], [25, 1, 5, 19], [1, 5, 19, 3], [5, 19, 3, 3], [19, 3, 3, 21], [3, 3, 21, 2], [3, 21, 2, 7], [21, 2, 7, 23], [2, 7, 23, 5], [7, 23, 5, 12], [23, 5, 12, 12], [5, 12, 12, 3], [12, 12, 3, 18], [12, 3, 18, 24], [3, 18, 24, 3], [18, 24, 3, 13], [24, 3, 13, 31], [3, 13, 31, 3], [13, 31, 3, 5], [31, 3, 5, 19], [3, 5, 19, 4], [5, 19, 4, 2], [19, 4, 2, 12], [4, 2, 12, 1], [2, 12, 1, 7], [12, 1, 7, 16], [1, 7, 16, 0], [7, 16, 0, 19], [16, 0, 19, 25], [0, 19, 25, 2], [19, 25, 2, 10], [25, 2, 10, 21], [2, 10, 21, 0], [10, 21, 0, 10], [21, 0, 10, 22], [0, 10, 22, 6], [10, 22, 6, 11], [22, 6, 11, 11], [6, 11, 11, 8], [11, 11, 8, 5], [11, 8, 5, 22], [8, 5, 22, 5], [5, 22, 5, 9], [22, 5, 9, 12], [5, 9, 12, 3], [9, 12, 3, 6], [12, 3, 6, 19], [3, 6, 19, 6], [6, 19, 6, 7], [19, 6, 7, 16], [6, 7, 16, 3], [7, 16, 3, 6], [16, 3, 6, 25], [3, 6, 25, 4], [6, 25, 4, 14], [25, 4, 14, 24], [4, 14, 24, 3], [14, 24, 3, 8], [24, 3, 8, 30], [3, 8, 30, 14], [8, 30, 14, 8], [30, 14, 8, 14], [14, 8, 14, 6], [8, 14, 6, 3], [14, 6, 3, 2], [6, 3, 2, 10], [3, 2, 10, 1], [2, 10, 1, 2], [10, 1, 2, 18], [1, 2, 18, 1], [2, 18, 1, 2], [18, 1, 2, 15], [1, 2, 15, 3], [2, 15, 3, 3], [15, 3, 3, 9], [3, 3, 9, 3], [3, 9, 3, 6], [9, 3, 6, 11], [3, 6, 11, 3], [6, 11, 3, 10], [11, 3, 10, 9], [3, 10, 9, 7], [10, 9, 7, 10], [9, 7, 10, 12], [7, 10, 12, 3], [10, 12, 3, 8], [12, 3, 8, 20], [3, 8, 20, 0], [8, 20, 0, 2], [20, 0, 2, 15], [0, 2, 15, 1], [2, 15, 1, 16], [15, 1, 16, 13], [1, 16, 13, 1], [16, 13, 1, 6], [13, 1, 6, 13], [1, 6, 13, 5], [6, 13, 5, 11], [13, 5, 11, 16], [5, 11, 16, 2], [11, 16, 2, 4], [16, 2, 4, 14], [2, 4, 14, 2], [4, 14, 2, 15], [14, 2, 15, 15], [2, 15, 15, 2], [15, 15, 2, 16], [15, 2, 16, 20], [2, 16, 20, 2], [16, 20, 2, 6], [20, 2, 6, 19], [2, 6, 19, 2], [6, 19, 2, 10], [19, 2, 10, 30], [2, 10, 30, 2], [10, 30, 2, 10], [30, 2, 10, 22], [2, 10, 22, 2], [10, 22, 2, 11], [22, 2, 11, 32], [2, 11, 32, 4], [11, 32, 4, 3], [32, 4, 3, 20], [4, 3, 20, 4], [3, 20, 4, 11], [20, 4, 11, 17], [4, 11, 17, 1], [11, 17, 1, 11], [17, 1, 11, 25], [1, 11, 25, 0], [11, 25, 0, 14], [25, 0, 14, 22], [0, 14, 22, 1], [14, 22, 1, 10], [22, 1, 10, 22], [1, 10, 22, 5], [10, 22, 5, 7], [22, 5, 7, 17], [5, 7, 17, 1], [7, 17, 1, 8], [17, 1, 8, 21], [1, 8, 21, 3], [8, 21, 3, 4], [21, 3, 4, 18], [3, 4, 18, 3], [4, 18, 3, 5], [18, 3, 5, 12], [3, 5, 12, 7], [5, 12, 7, 14], [12, 7, 14, 17], [7, 14, 17, 4], [14, 17, 4, 18], [17, 4, 18, 20], [4, 18, 20, 4], [18, 20, 4, 13], [20, 4, 13, 21], [4, 13, 21, 4], [13, 21, 4, 10], [21, 4, 10, 18], [4, 10, 18, 3], [10, 18, 3, 5], [18, 3, 5, 15], [3, 5, 15, 3], [5, 15, 3, 11], [15, 3, 11, 25], [3, 11, 25, 1], [11, 25, 1, 6], [25, 1, 6, 21], [1, 6, 21, 0], [6, 21, 0, 11], [21, 0, 11, 19], [0, 11, 19, 3], [11, 19, 3, 6], [19, 3, 6, 16], [3, 6, 16, 2], [6, 16, 2, 9], [16, 2, 9, 25], [2, 9, 25, 2], [9, 25, 2, 11], [25, 2, 11, 21], [2, 11, 21, 4], [11, 21, 4, 9], [21, 4, 9, 21], [4, 9, 21, 2], [9, 21, 2, 8], [21, 2, 8, 7], [2, 8, 7, 3], [8, 7, 3, 10], [7, 3, 10, 2], [3, 10, 2, 2], [10, 2, 2, 10], [2, 2, 10, 5], [2, 10, 5, 2], [10, 5, 2, 6], [5, 2, 6, 7], [2, 6, 7, 5], [6, 7, 5, 8], [7, 5, 8, 9], [5, 8, 9, 3], [8, 9, 3, 6], [9, 3, 6, 11], [3, 6, 11, 7], [6, 11, 7, 10], [11, 7, 10, 9], [7, 10, 9, 4], [10, 9, 4, 13], [9, 4, 13, 15], [4, 13, 15, 0], [13, 15, 0, 9], [15, 0, 9, 14], [0, 9, 14, 2], [9, 14, 2, 9], [14, 2, 9, 9], [2, 9, 9, 5], [9, 9, 5, 5], [9, 5, 5, 16], [5, 5, 16, 8], [5, 16, 8, 9], [16, 8, 9, 16], [8, 9, 16, 3], [9, 16, 3, 7], [16, 3, 7, 9], [3, 7, 9, 5], [7, 9, 5, 7], [9, 5, 7, 7], [5, 7, 7, 11], [7, 7, 11, 9], [7, 11, 9, 16], [11, 9, 16, 4], [9, 16, 4, 16], [16, 4, 16, 15], [4, 16, 15, 5], [16, 15, 5, 6], [15, 5, 6, 8], [5, 6, 8, 5], [6, 8, 5, 10], [8, 5, 10, 17], [5, 10, 17, 5], [10, 17, 5, 8], [17, 5, 8, 10], [5, 8, 10, 14], [8, 10, 14, 9], [10, 14, 9, 8], [14, 9, 8, 7], [9, 8, 7, 20], [8, 7, 20, 5], [7, 20, 5, 6], [20, 5, 6, 10], [5, 6, 10, 14], [6, 10, 14, 9], [10, 14, 9, 8], [14, 9, 8, 12], [9, 8, 12, 9], [8, 12, 9, 8], [12, 9, 8, 15], [9, 8, 15, 11], [8, 15, 11, 12], [15, 11, 12, 14], [11, 12, 14, 13], [12, 14, 13, 5], [14, 13, 5, 17], [13, 5, 17, 9], [5, 17, 9, 13], [17, 9, 13, 18], [9, 13, 18, 5], [13, 18, 5, 12], [18, 5, 12, 7], [5, 12, 7, 11], [12, 7, 11, 10], [7, 11, 10, 13], [11, 10, 13, 12], [10, 13, 12, 12], [13, 12, 12, 9], [12, 12, 9, 9], [12, 9, 9, 14], [9, 9, 14, 17], [9, 14, 17, 6], [14, 17, 6, 7], [17, 6, 7, 18], [6, 7, 18, 6], [7, 18, 6, 5], [18, 6, 5, 11], [6, 5, 11, 12], [5, 11, 12, 14], [11, 12, 14, 3], [12, 14, 3, 12], [14, 3, 12, 7], [3, 12, 7, 11], [12, 7, 11, 17], [7, 11, 17, 10], [11, 17, 10, 12], [17, 10, 12, 10], [10, 12, 10, 8], [12, 10, 8, 16], [10, 8, 16, 7], [8, 16, 7, 11], [16, 7, 11, 13], [7, 11, 13, 15], [11, 13, 15, 13], [13, 15, 13, 20], [15, 13, 20, 4], [13, 20, 4, 18], [20, 4, 18, 9], [4, 18, 9, 10], [18, 9, 10, 1], [9, 10, 1, 5], [10, 1, 5, 5], [1, 5, 5, 3], [5, 5, 3, 7], [5, 3, 7, 7], [3, 7, 7, 4], [7, 7, 4, 4], [7, 4, 4, 13], [4, 4, 13, 5], [4, 13, 5, 2], [13, 5, 2, 21], [5, 2, 21, 5], [2, 21, 5, 4], [21, 5, 4, 7], [5, 4, 7, 0], [4, 7, 0, 7], [7, 0, 7, 9], [0, 7, 9, 3], [7, 9, 3, 5], [9, 3, 5, 11], [3, 5, 11, 3], [5, 11, 3, 6], [11, 3, 6, 19], [3, 6, 19, 5], [6, 19, 5, 6], [19, 5, 6, 11], [5, 6, 11, 12], [6, 11, 12, 7], [11, 12, 7, 12], [12, 7, 12, 3], [7, 12, 3, 9], [12, 3, 9, 16], [3, 9, 16, 7], [9, 16, 7, 7], [16, 7, 7, 8], [7, 7, 8, 1], [7, 8, 1, 6], [8, 1, 6, 16], [1, 6, 16, 6], [6, 16, 6, 3], [16, 6, 3, 10], [6, 3, 10, 8], [3, 10, 8, 11], [10, 8, 11, 14], [8, 11, 14, 9], [11, 14, 9, 10], [14, 9, 10, 16], [9, 10, 16, 6], [10, 16, 6, 13], [16, 6, 13, 23], [6, 13, 23, 8], [13, 23, 8, 4], [23, 8, 4, 18], [8, 4, 18, 4], [4, 18, 4, 5], [18, 4, 5, 12], [4, 5, 12, 5], [5, 12, 5, 5], [12, 5, 5, 11], [5, 5, 11, 5], [5, 11, 5, 9], [11, 5, 9, 16], [5, 9, 16, 4], [9, 16, 4, 13], [16, 4, 13, 18], [4, 13, 18, 12], [13, 18, 12, 12], [18, 12, 12, 14], [12, 12, 14, 8], [12, 14, 8, 10], [14, 8, 10, 10], [8, 10, 10, 12], [10, 10, 12, 12], [10, 12, 12, 14], [12, 12, 14, 8], [12, 14, 8, 14], [14, 8, 14, 14], [8, 14, 14, 12], [14, 14, 12, 12], [14, 12, 12, 17], [12, 12, 17, 7], [12, 17, 7, 5], [17, 7, 5, 11], [7, 5, 11, 5], [5, 11, 5, 5], [11, 5, 5, 13], [5, 5, 13, 1], [5, 13, 1, 14], [13, 1, 14, 7], [1, 14, 7, 10], [14, 7, 10, 9], [7, 10, 9, 14], [10, 9, 14, 9], [9, 14, 9, 7], [14, 9, 7, 11], [9, 7, 11, 6], [7, 11, 6, 8], [11, 6, 8, 10], [6, 8, 10, 9], [8, 10, 9, 10], [10, 9, 10, 18], [9, 10, 18, 10], [10, 18, 10, 8], [18, 10, 8, 7], [10, 8, 7, 5], [8, 7, 5, 18], [7, 5, 18, 19], [5, 18, 19, 10], [18, 19, 10, 10], [19, 10, 10, 15], [10, 10, 15, 9], [10, 15, 9, 13], [15, 9, 13, 10], [9, 13, 10, 18], [13, 10, 18, 5], [10, 18, 5, 12], [18, 5, 12, 7], [5, 12, 7, 9], [12, 7, 9, 6], [7, 9, 6, 1], [9, 6, 1, 3], [6, 1, 3, 3], [1, 3, 3, 5], [3, 3, 5, 3], [3, 5, 3, 7], [5, 3, 7, 4], [3, 7, 4, 6], [7, 4, 6, 5], [4, 6, 5, 2], [6, 5, 2, 6], [5, 2, 6, 2], [2, 6, 2, 2], [6, 2, 2, 4], [2, 2, 4, 6], [2, 4, 6, 1], [4, 6, 1, 7], [6, 1, 7, 8], [1, 7, 8, 6], [7, 8, 6, 3], [8, 6, 3, 6], [6, 3, 6, 4], [3, 6, 4, 5], [6, 4, 5, 11], [4, 5, 11, 4], [5, 11, 4, 10], [11, 4, 10, 15], [4, 10, 15, 5], [10, 15, 5, 11], [15, 5, 11, 0], [5, 11, 0, 3], [11, 0, 3, 14], [0, 3, 14, 0], [3, 14, 0, 10], [14, 0, 10, 10], [0, 10, 10, 0], [10, 10, 0, 1], [10, 0, 1, 15], [0, 1, 15, 1], [1, 15, 1, 6], [15, 1, 6, 17], [1, 6, 17, 0], [6, 17, 0, 12], [17, 0, 12, 19], [0, 12, 19, 1], [12, 19, 1, 6], [19, 1, 6, 12], [1, 6, 12, 1], [6, 12, 1, 10], [12, 1, 10, 5], [1, 10, 5, 3], [10, 5, 3, 2], [5, 3, 2, 22], [3, 2, 22, 3], [2, 22, 3, 8], [22, 3, 8, 11], [3, 8, 11, 5], [8, 11, 5, 5], [11, 5, 5, 17], [5, 5, 17, 4], [5, 17, 4, 4], [17, 4, 4, 12], [4, 4, 12, 1], [4, 12, 1, 5], [12, 1, 5, 11], [1, 5, 11, 4], [5, 11, 4, 6], [11, 4, 6, 10], [4, 6, 10, 5], [6, 10, 5, 11], [10, 5, 11, 13], [5, 11, 13, 3], [11, 13, 3, 9], [13, 3, 9, 7], [3, 9, 7, 4], [9, 7, 4, 7], [7, 4, 7, 1], [4, 7, 1, 13], [7, 1, 13, 11], [1, 13, 11, 10], [13, 11, 10, 3], [11, 10, 3, 6], [10, 3, 6, 6], [3, 6, 6, 4], [6, 6, 4, 9], [6, 4, 9, 5], [4, 9, 5, 8], [9, 5, 8, 16], [5, 8, 16, 4], [8, 16, 4, 7], [16, 4, 7, 21], [4, 7, 21, 5], [7, 21, 5, 4], [21, 5, 4, 9], [5, 4, 9, 6], [4, 9, 6, 5], [9, 6, 5, 9], [6, 5, 9, 9], [5, 9, 9, 10], [9, 9, 10, 12], [9, 10, 12, 12], [10, 12, 12, 3], [12, 12, 3, 16], [12, 3, 16, 1], [3, 16, 1, 5], [16, 1, 5, 6], [1, 5, 6, 10], [5, 6, 10, 10], [6, 10, 10, 13], [10, 10, 13, 9], [10, 13, 9, 12], [13, 9, 12, 16], [9, 12, 16, 2], [12, 16, 2, 14], [16, 2, 14, 12], [2, 14, 12, 10], [14, 12, 10, 4], [12, 10, 4, 7], [10, 4, 7, 7], [4, 7, 7, 6], [7, 7, 6, 2], [7, 6, 2, 4], [6, 2, 4, 6], [2, 4, 6, 4], [4, 6, 4, 10], [6, 4, 10, 7], [4, 10, 7, 4], [10, 7, 4, 3], [7, 4, 3, 2], [4, 3, 2, 8], [3, 2, 8, 3], [2, 8, 3, 5], [8, 3, 5, 4], [3, 5, 4, 3], [5, 4, 3, 5], [4, 3, 5, 1], [3, 5, 1, 12], [5, 1, 12, 0], [1, 12, 0, 7], [12, 0, 7, 4], [0, 7, 4, 2], [7, 4, 2, 7], [4, 2, 7, 2], [2, 7, 2, 8], [7, 2, 8, 7], [2, 8, 7, 2], [8, 7, 2, 4], [7, 2, 4, 4], [2, 4, 4, 4], [4, 4, 4, 8], [4, 4, 8, 8], [4, 8, 8, 14], [8, 8, 14, 3], [8, 14, 3, 9], [14, 3, 9, 2], [3, 9, 2, 1], [9, 2, 1, 8], [2, 1, 8, 5], [1, 8, 5, 14], [8, 5, 14, 1], [5, 14, 1, 4], [14, 1, 4, 8], [1, 4, 8, 1], [4, 8, 1, 8], [8, 1, 8, 9], [1, 8, 9, 3], [8, 9, 3, 4], [9, 3, 4, 15], [3, 4, 15, 2], [4, 15, 2, 1], [15, 2, 1, 10], [2, 1, 10, 3], [1, 10, 3, 6], [10, 3, 6, 12], [3, 6, 12, 1], [6, 12, 1, 4], [12, 1, 4, 8], [1, 4, 8, 2], [4, 8, 2, 5], [8, 2, 5, 10], [2, 5, 10, 5], [5, 10, 5, 7], [10, 5, 7, 6], [5, 7, 6, 4], [7, 6, 4, 12], [6, 4, 12, 3], [4, 12, 3, 7], [12, 3, 7, 11], [3, 7, 11, 7], [7, 11, 7, 1], [11, 7, 1, 13], [7, 1, 13, 15], [1, 13, 15, 5], [13, 15, 5, 12], [15, 5, 12, 1], [5, 12, 1, 9], [12, 1, 9, 15], [1, 9, 15, 1], [9, 15, 1, 6], [15, 1, 6, 12], [1, 6, 12, 1], [6, 12, 1, 7], [12, 1, 7, 11], [1, 7, 11, 5], [7, 11, 5, 10], [11, 5, 10, 11], [5, 10, 11, 2], [10, 11, 2, 14], [11, 2, 14, 9], [2, 14, 9, 5], [14, 9, 5, 8], [9, 5, 8, 9], [5, 8, 9, 9], [8, 9, 9, 15], [9, 9, 15, 5], [9, 15, 5, 6], [15, 5, 6, 9], [5, 6, 9, 7], [6, 9, 7, 3], [9, 7, 3, 10], [7, 3, 10, 7], [3, 10, 7, 6], [10, 7, 6, 16], [7, 6, 16, 3], [6, 16, 3, 7], [16, 3, 7, 16], [3, 7, 16, 1], [7, 16, 1, 9], [16, 1, 9, 13], [1, 9, 13, 1], [9, 13, 1, 6], [13, 1, 6, 12], [1, 6, 12, 5], [6, 12, 5, 7], [12, 5, 7, 18], [5, 7, 18, 4], [7, 18, 4, 3], [18, 4, 3, 12], [4, 3, 12, 6]]\n",
      "3253\n",
      "3253\n"
     ]
    }
   ],
   "source": [
    "# from user import predict as BPpredict\n",
    "#from PSO import *\n",
    "data =[5, 21, 13, 4, 5, 14, 10, 5, 11, 11, 6, 4, 9, 14, 17, 8, 9, 3, 11, 9, 1, 7, 11, 2, 7, 14, 2, 8, 13, 1, 4, 18, 3, 5, 19, 8, 10, 14, 9, 5, 12, 7, 12, 11, 6, 11, 18, 9, 9, 21, 3, 6, 3, 11, 17, 19, 1, 5, 17, 9, 4, 15, 2, 5, 17, 4, 14, 15, 9, 12, 18, 10, 8, 19, 3, 11, 18, 4, 15, 18, 5, 13, 15, 12, 11, 12, 2, 9, 15, 9, 3, 15, 6, 12, 11, 3, 13, 20, 9, 9, 13, 9, 13, 19, 6, 24, 18, 9, 14, 17, 6, 18, 17, 13, 15, 20, 2, 11, 18, 7, 12, 16, 11, 4, 15, 5, 15, 17, 2, 15, 17, 6, 14, 19, 2, 11, 16, 3, 17, 1, 4, 15, 3, 5, 18, 4, 13, 9, 1, 4, 9, 3, 8, 17, 1, 6, 15, 9, 8, 14, 0, 5, 17, 3, 14, 14, 2, 13, 16, 3, 6, 17, 3, 6, 18, 2, 6, 15, 3, 6, 25, 2, 5, 11, 0, 7, 24, 1, 6, 21, 6, 7, 17, 3, 13, 21, 4, 13, 22, 1, 11, 18, 1, 12, 27, 0, 3, 24, 6, 7, 11, 3, 7, 5, 4, 11, 19, 3, 6, 19, 5, 8, 20, 25, 22, 9, 9, 8, 10, 2, 2, 18, 5, 5, 17, 4, 9, 17, 4, 14, 24, 4, 8, 17, 3, 18, 28, 1, 15, 14, 2, 16, 19, 3, 8, 21, 0, 12, 2, 9, 12, 5, 4, 16, 2, 5, 13, 8, 9, 15, 4, 10, 13, 11, 10, 9, 3, 4, 14, 2, 7, 22, 3, 5, 12, 6, 7, 14, 5, 4, 15, 2, 6, 9, 14, 5, 7, 10, 5, 13, 15, 7, 9, 2, 12, 18, 2, 4, 17, 2, 12, 13, 13, 8, 18, 2, 12, 19, 4, 16, 19, 11, 11, 11, 7, 24, 12, 7, 18, 17, 5, 20, 12, 3, 11, 10, 10, 19, 13, 5, 16, 17, 2, 16, 17, 4, 16, 19, 10, 7, 13, 8, 5, 14, 12, 3, 19, 12, 12, 13, 8, 11, 12, 12, 15, 15, 3, 9, 15, 9, 8, 20, 6, 10, 7, 6, 18, 0, 10, 3, 4, 10, 3, 2, 21, 5, 4, 18, 6, 5, 12, 4, 9, 11, 2, 4, 10, 3, 5, 19, 3, 9, 14, 4, 4, 12, 0, 10, 22, 3, 9, 21, 5, 3, 8, 10, 9, 14, 7, 10, 16, 7, 5, 10, 5, 15, 14, 2, 15, 12, 6, 10, 24, 2, 16, 22, 8, 11, 16, 12, 3, 15, 5, 15, 14, 5, 11, 15, 4, 12, 19, 4, 13, 14, 2, 15, 19, 0, 16, 13, 8, 8, 15, 3, 14, 16, 2, 10, 13, 8, 11, 9, 12, 11, 17, 6, 15, 14, 6, 14, 11, 7, 6, 16, 8, 15, 20, 2, 27, 7, 7, 11, 20, 2, 3, 13, 7, 8, 3, 4, 6, 4, 6, 3, 7, 3, 0, 3, 10, 4, 4, 5, 2, 6, 1, 6, 4, 6, 8, 3, 7, 3, 11, 4, 4, 12, 2, 7, 5, 7, 7, 5, 3, 8, 2, 6, 5, 12, 5, 10, 11, 8, 14, 3, 2, 14, 5, 10, 9, 7, 15, 13, 7, 5, 20, 4, 8, 17, 7, 6, 5, 5, 6, 10, 2, 14, 19, 4, 7, 7, 1, 1, 17, 4, 7, 14, 4, 5, 18, 4, 5, 18, 3, 11, 15, 6, 8, 19, 6, 12, 13, 9, 9, 14, 4, 8, 14, 5, 9, 19, 7, 7, 11, 13, 13, 11, 5, 3, 21, 2, 11, 1, 3, 5, 21, 9, 5, 7, 2, 9, 3, 6, 9, 1, 6, 8, 6, 3, 0, 5, 7, 1, 12, 0, 4, 10, 1, 9, 20, 5, 0, 12, 2, 4, 8, 1, 4, 6, 4, 12, 2, 6, 7, 4, 5, 12, 0, 6, 19, 5, 6, 12, 5, 4, 16, 6, 6, 14, 4, 2, 18, 3, 7, 13, 1, 9, 1, 4, 8, 9, 2, 5, 3, 2, 13, 16, 0, 11, 3, 5, 4, 14, 5, 16, 3, 5, 9, 2, 4, 18, 8, 3, 12, 15, 5, 15, 4, 7, 13, 5, 3, 12, 6, 11, 15, 3, 8, 13, 4, 8, 17, 1, 5, 17, 1, 8, 17, 5, 8, 19, 7, 7, 13, 4, 8, 12, 1, 6, 6, 11, 3, 12, 3, 3, 7, 10, 5, 4, 20, 6, 9, 20, 3, 8, 11, 3, 7, 10, 5, 10, 15, 5, 12, 16, 4, 8, 13, 3, 14, 11, 5, 15, 9, 8, 10, 11, 10, 10, 10, 9, 11, 12, 9, 8, 18, 12, 12, 17, 13, 4, 21, 5, 9, 17, 8, 14, 13, 6, 8, 18, 7, 11, 14, 5, 2, 20, 9, 5, 9, 4, 6, 10, 17, 10, 12, 8, 4, 15, 2, 19, 14, 14, 13, 10, 11, 19, 7, 9, 14, 14, 8, 7, 10, 10, 14, 12, 6, 6, 18, 11, 8, 16, 11, 13, 11, 10, 7, 15, 13, 11, 9, 6, 9, 5, 3, 1, 22, 5, 6, 4, 8, 12, 10, 14, 8, 6, 11, 6, 12, 10, 6, 15, 5, 10, 10, 8, 4, 9, 6, 12, 9, 9, 8, 10, 14, 9, 8, 10, 14, 5, 16, 9, 3, 10, 9, 10, 11, 11, 8, 9, 15, 9, 10, 14, 6, 13, 17, 9, 9, 11, 15, 21, 7, 10, 19, 5, 17, 8, 13, 16, 13, 7, 11, 16, 4, 9, 12, 10, 5, 8, 10, 14, 16, 8, 6, 9, 21, 7, 15, 8, 8, 12, 11, 11, 14, 5, 21, 10, 14, 5, 13, 9, 18, 14, 9, 13, 13, 17, 8, 20, 4, 9, 13, 8, 14, 16, 10, 19, 12, 16, 9, 13, 10, 4, 14, 7, 10, 0, 12, 5, 1, 12, 10, 3, 13, 1, 6, 9, 8, 5, 10, 8, 9, 9, 16, 6, 10, 11, 7, 20, 18, 8, 7, 15, 3, 12, 8, 6, 10, 10, 8, 9, 10, 6, 15, 18, 12, 11, 11, 5, 9, 9, 2, 12, 10, 9, 8, 12, 13, 10, 16, 9, 9, 18, 7, 15, 17, 10, 15, 10, 10, 9, 7, 17, 10, 17, 7, 13, 8, 9, 10, 11, 8, 6, 15, 11, 9, 16, 15, 13, 6, 6, 5, 14, 13, 12, 17, 4, 8, 7, 5, 10, 12, 11, 14, 13, 15, 15, 20, 11, 16, 11, 6, 11, 21, 9, 8, 10, 0, 11, 18, 13, 12, 17, 5, 12, 13, 12, 3, 9, 13, 3, 7, 13, 5, 7, 12, 5, 6, 12, 6, 7, 8, 5, 11, 11, 16, 11, 16, 6, 6, 19, 2, 7, 20, 6, 8, 18, 5, 8, 13, 5, 13, 12, 10, 7, 20, 5, 8, 14, 8, 9, 17, 10, 5, 10, 7, 9, 21, 9, 5, 12, 16, 9, 17, 9, 14, 16, 13, 10, 16, 13, 6, 13, 10, 15, 9, 15, 13, 8, 9, 11, 7, 14, 12, 14, 8, 10, 10, 12, 12, 10, 10, 6, 15, 8, 7, 20, 3, 9, 16, 3, 7, 12, 3, 7, 17, 7, 8, 17, 6, 8, 15, 15, 13, 21, 9, 12, 20, 3, 7, 11, 11, 7, 16, 7, 5, 9, 4, 8, 10, 2, 2, 13, 8, 8, 10, 6, 10, 14, 5, 8, 17, 9, 12, 14, 3, 6, 7, 11, 10, 13, 3, 13, 10, 2, 2, 21, 5, 14, 14, 4, 10, 17, 8, 14, 14, 4, 6, 15, 1, 4, 17, 8, 5, 20, 6, 6, 15, 11, 7, 23, 9, 12, 27, 4, 6, 17, 8, 5, 15, 8, 9, 9, 6, 12, 22, 5, 1, 25, 7, 11, 14, 9, 8, 21, 9, 6, 16, 8, 8, 15, 8, 9, 12, 5, 12, 14, 15, 12, 21, 6, 6, 8, 11, 12, 6, 17, 7, 20, 4, 5, 9, 15, 13, 17, 11, 3, 8, 16, 17, 19, 6, 6, 19, 3, 5, 8, 3, 0, 7, 1, 3, 7, 3, 9, 5, 2, 13, 1, 3, 11, 0, 4, 11, 0, 5, 19, 0, 3, 15, 1, 7, 15, 0, 3, 16, 1, 7, 13, 2, 8, 13, 6, 7, 7, 6, 8, 14, 5, 14, 4, 5, 13, 7, 1, 10, 5, 5, 12, 11, 7, 3, 18, 10, 6, 9, 3, 8, 10, 4, 13, 20, 5, 15, 1, 5, 4, 12, 2, 12, 9, 4, 8, 12, 3, 16, 8, 7, 11, 12, 9, 11, 8, 11, 8, 9, 6, 15, 6, 3, 9, 5, 5, 15, 10, 5, 7, 13, 8, 12, 9, 9, 18, 5, 5, 13, 7, 9, 10, 5, 12, 17, 6, 6, 16, 4, 8, 2, 8, 2, 3, 4, 2, 1, 0, 1, 8, 1, 4, 8, 1, 8, 2, 2, 7, 2, 2, 1, 1, 16, 1, 4, 6, 1, 6, 0, 2, 7, 2, 4, 11, 2, 4, 13, 7, 8, 1, 5, 6, 5, 3, 4, 2, 7, 11, 1, 7, 8, 9, 5, 4, 4, 14, 4, 6, 6, 5, 6, 12, 0, 7, 8, 7, 5, 14, 11, 5, 6, 1, 5, 11, 2, 1, 15, 6, 9, 13, 10, 10, 11, 4, 10, 11, 0, 2, 13, 7, 8, 13, 0, 9, 8, 2, 10, 14, 0, 5, 8, 6, 5, 9, 5, 7, 16, 6, 8, 7, 3, 9, 6, 3, 18, 0, 10, 13, 0, 6, 11, 5, 5, 16, 0, 13, 9, 9, 5, 11, 7, 3, 13, 10, 6, 11, 9, 6, 10, 7, 12, 10, 10, 26, 17, 4, 8, 12, 6, 7, 11, 5, 5, 12, 4, 4, 10, 11, 6, 19, 3, 5, 15, 1, 6, 12, 10, 5, 20, 6, 7, 15, 7, 8, 14, 8, 10, 20, 5, 9, 24, 9, 16, 17, 9, 11, 8, 4, 17, 10, 10, 9, 8, 1, 11, 13, 2, 10, 9, 7, 12, 12, 5, 15, 12, 4, 16, 17, 8, 6, 20, 7, 9, 18, 2, 15, 11, 6, 14, 18, 8, 10, 17, 3, 16, 17, 2, 6, 23, 2, 14, 20, 5, 8, 18, 4, 10, 17, 5, 2, 7, 0, 6, 7, 2, 5, 12, 3, 4, 19, 2, 7, 11, 0, 8, 8, 6, 10, 21, 1, 13, 11, 6, 8, 14, 3, 14, 18, 3, 3, 12, 4, 19, 18, 0, 5, 16, 1, 5, 17, 4, 3, 26, 5, 7, 18, 0, 5, 24, 2, 8, 24, 3, 11, 12, 9, 20, 19, 0, 22, 13, 7, 12, 19, 1, 9, 22, 1, 8, 15, 1, 12, 17, 1, 18, 22, 2, 9, 18, 2, 16, 15, 3, 9, 12, 2, 9, 13, 4, 17, 15, 9, 12, 16, 2, 9, 21, 2, 12, 19, 4, 15, 24, 4, 7, 15, 0, 14, 25, 4, 10, 25, 2, 6, 13, 2, 10, 15, 3, 7, 12, 0, 7, 11, 1, 7, 11, 1, 14, 6, 0, 6, 17, 2, 10, 25, 0, 13, 19, 4, 11, 20, 1, 9, 13, 0, 6, 29, 1, 13, 20, 0, 12, 19, 4, 1, 23, 7, 24, 17, 1, 14, 21, 0, 22, 21, 4, 9, 18, 3, 20, 21, 0, 6, 17, 0, 18, 16, 6, 19, 20, 0, 5, 15, 5, 7, 11, 0, 18, 20, 0, 16, 10, 0, 21, 14, 4, 12, 19, 0, 17, 12, 4, 20, 22, 5, 18, 25, 2, 11, 30, 1, 11, 19, 5, 10, 19, 2, 12, 19, 1, 5, 25, 1, 8, 17, 1, 10, 25, 4, 8, 15, 5, 14, 9, 3, 7, 19, 3, 2, 14, 7, 5, 13, 9, 9, 14, 9, 6, 8, 15, 4, 7, 6, 11, 10, 11, 5, 14, 15, 7, 7, 11, 4, 14, 6, 4, 7, 14, 0, 11, 17, 3, 14, 10, 6, 4, 12, 7, 10, 17, 5, 15, 9, 3, 13, 12, 4, 8, 25, 4, 3, 17, 6, 9, 18, 7, 5, 15, 12, 9, 16, 9, 5, 23, 5, 17, 12, 6, 11, 13, 12, 15, 11, 8, 5, 8, 10, 13, 10, 19, 10, 10, 12, 10, 18, 13, 10, 14, 9, 13, 7, 10, 10, 17, 5, 9, 16, 10, 8, 13, 6, 10, 16, 6, 11, 13, 14, 9, 15, 10, 4, 20, 12, 9, 12, 8, 9, 14, 5, 7, 4, 9, 3, 5, 9, 3, 4, 6, 3, 1, 6, 17, 3, 5, 8, 1, 3, 7, 3, 5, 15, 2, 6, 2, 3, 1, 0, 3, 8, 8, 2, 5, 12, 6, 10, 9, 6, 2, 10, 4, 6, 6, 2, 3, 10, 1, 6, 10, 9, 7, 14, 4, 8, 12, 1, 9, 10, 3, 7, 8, 9, 9, 10, 3, 6, 11, 2, 9, 13, 3, 9, 5, 3, 7, 19, 6, 5, 8, 4, 11, 9, 5, 5, 8, 3, 5, 14, 4, 9, 15, 2, 5, 15, 1, 4, 9, 7, 17, 12, 4, 6, 11, 5, 7, 16, 6, 3, 16, 12, 8, 12, 12, 5, 14, 10, 10, 15, 5, 1, 4, 2, 2, 6, 5, 3, 2, 5, 4, 5, 4, 2, 3, 4, 0, 3, 5, 1, 4, 1, 2, 5, 2, 10, 0, 3, 8, 0, 7, 4, 2, 7, 0, 1, 5, 1, 4, 10, 3, 5, 11, 0, 2, 9, 3, 4, 8, 6, 3, 6, 4, 9, 0, 1, 8, 2, 2, 13, 3, 2, 8, 0, 8, 7, 3, 9, 6, 5, 11, 2, 5, 9, 1, 6, 13, 5, 12, 12, 2, 3, 7, 3, 5, 5, 2, 2, 8, 3, 8, 7, 4, 12, 10, 3, 5, 13, 2, 9, 6, 3, 3, 15, 6, 5, 12, 2, 11, 12, 7, 13, 2, 4, 7, 11, 3, 5, 5, 1, 10, 3, 1, 6, 1, 3, 2, 3, 2, 1, 1, 3, 3, 5, 2, 10, 3, 6, 1, 3, 9, 4, 4, 3, 11, 5, 3, 3, 2, 1, 8, 6, 6, 2, 3, 4, 4, 3, 7, 4, 4, 7, 2, 13, 5, 7, 5, 6, 2, 9, 2, 3, 12, 2, 5, 16, 3, 4, 5, 3, 0, 7, 4, 7, 3, 3, 10, 4, 3, 13, 2, 4, 5, 1, 8, 14, 2, 2, 7, 4, 3, 7, 2, 2, 9, 4, 3, 9, 2, 7, 16, 2, 7, 1, 4, 6, 10, 6, 7, 8, 5, 12, 2, 5, 9, 2, 4, 8, 14, 3, 10, 14, 6, 11, 0, 6, 11, 2, 7, 20, 6, 17, 6, 4, 15, 4, 7, 17, 6, 3, 13, 2, 7, 13, 1, 3, 10, 9, 7, 16, 7, 6, 20, 4, 8, 12, 7, 9, 14, 7, 5, 17, 11, 8, 14, 7, 7, 16, 5, 6, 13, 8, 5, 18, 3, 11, 19, 7, 5, 24, 2, 8, 21, 3, 11, 14, 4, 12, 11, 4, 8, 14, 1, 10, 24, 7, 7, 19, 11, 9, 18, 8, 6, 20, 4, 8, 19, 5, 7, 18, 2, 6, 12, 9, 10, 20, 7, 6, 16, 5, 7, 23, 3, 2, 31, 5, 7, 14, 10, 8, 9, 8, 11, 20, 5, 7, 26, 7, 6, 16, 8, 8, 16, 6, 8, 16, 8, 15, 15, 4, 12, 5, 5, 3, 5, 14, 6, 3, 16, 3, 4, 16, 5, 9, 19, 2, 4, 12, 3, 7, 15, 4, 4, 16, 6, 6, 16, 3, 9, 15, 2, 7, 17, 4, 10, 27, 3, 7, 14, 0, 7, 15, 5, 5, 19, 6, 8, 23, 2, 6, 20, 2, 6, 18, 8, 13, 25, 1, 5, 19, 3, 3, 21, 2, 7, 23, 5, 12, 12, 3, 18, 24, 3, 13, 31, 3, 5, 19, 4, 2, 12, 1, 7, 16, 0, 19, 25, 2, 10, 21, 0, 10, 22, 6, 11, 11, 8, 5, 22, 5, 9, 12, 3, 6, 19, 6, 7, 16, 3, 6, 25, 4, 14, 24, 3, 8, 30, 14, 8, 14, 6, 3, 2, 10, 1, 2, 18, 1, 2, 15, 3, 3, 9, 3, 6, 11, 3, 10, 9, 7, 10, 12, 3, 8, 20, 0, 2, 15, 1, 16, 13, 1, 6, 13, 5, 11, 16, 2, 4, 14, 2, 15, 15, 2, 16, 20, 2, 6, 19, 2, 10, 30, 2, 10, 22, 2, 11, 32, 4, 3, 20, 4, 11, 17, 1, 11, 25, 0, 14, 22, 1, 10, 22, 5, 7, 17, 1, 8, 21, 3, 4, 18, 3, 5, 12, 7, 14, 17, 4, 18, 20, 4, 13, 21, 4, 10, 18, 3, 5, 15, 3, 11, 25, 1, 6, 21, 0, 11, 19, 3, 6, 16, 2, 9, 25, 2, 11, 21, 4, 9, 21, 2, 8, 7, 3, 10, 2, 2, 10, 5, 2, 6, 7, 5, 8, 9, 3, 6, 11, 7, 10, 9, 4, 13, 15, 0, 9, 14, 2, 9, 9, 5, 5, 16, 8, 9, 16, 3, 7, 9, 5, 7, 7, 11, 9, 16, 4, 16, 15, 5, 6, 8, 5, 10, 17, 5, 8, 10, 14, 9, 8, 7, 20, 5, 6, 10, 14, 9, 8, 12, 9, 8, 15, 11, 12, 14, 13, 5, 17, 9, 13, 18, 5, 12, 7, 11, 10, 13, 12, 12, 9, 9, 14, 17, 6, 7, 18, 6, 5, 11, 12, 14, 3, 12, 7, 11, 17, 10, 12, 10, 8, 16, 7, 11, 13, 15, 13, 20, 4, 18, 9, 10, 1, 5, 5, 3, 7, 7, 4, 4, 13, 5, 2, 21, 5, 4, 7, 0, 7, 9, 3, 5, 11, 3, 6, 19, 5, 6, 11, 12, 7, 12, 3, 9, 16, 7, 7, 8, 1, 6, 16, 6, 3, 10, 8, 11, 14, 9, 10, 16, 6, 13, 23, 8, 4, 18, 4, 5, 12, 5, 5, 11, 5, 9, 16, 4, 13, 18, 12, 12, 14, 8, 10, 10, 12, 12, 14, 8, 14, 14, 12, 12, 17, 7, 5, 11, 5, 5, 13, 1, 14, 7, 10, 9, 14, 9, 7, 11, 6, 8, 10, 9, 10, 18, 10, 8, 7, 5, 18, 19, 10, 10, 15, 9, 13, 10, 18, 5, 12, 7, 9, 6, 1, 3, 3, 5, 3, 7, 4, 6, 5, 2, 6, 2, 2, 4, 6, 1, 7, 8, 6, 3, 6, 4, 5, 11, 4, 10, 15, 5, 11, 0, 3, 14, 0, 10, 10, 0, 1, 15, 1, 6, 17, 0, 12, 19, 1, 6, 12, 1, 10, 5, 3, 2, 22, 3, 8, 11, 5, 5, 17, 4, 4, 12, 1, 5, 11, 4, 6, 10, 5, 11, 13, 3, 9, 7, 4, 7, 1, 13, 11, 10, 3, 6, 6, 4, 9, 5, 8, 16, 4, 7, 21, 5, 4, 9, 6, 5, 9, 9, 10, 12, 12, 3, 16, 1, 5, 6, 10, 10, 13, 9, 12, 16, 2, 14, 12, 10, 4, 7, 7, 6, 2, 4, 6, 4, 10, 7, 4, 3, 2, 8, 3, 5, 4, 3, 5, 1, 12, 0, 7, 4, 2, 7, 2, 8, 7, 2, 4, 4, 4, 8, 8, 14, 3, 9, 2, 1, 8, 5, 14, 1, 4, 8, 1, 8, 9, 3, 4, 15, 2, 1, 10, 3, 6, 12, 1, 4, 8, 2, 5, 10, 5, 7, 6, 4, 12, 3, 7, 11, 7, 1, 13, 15, 5, 12, 1, 9, 15, 1, 6, 12, 1, 7, 11, 5, 10, 11, 2, 14, 9, 5, 8, 9, 9, 15, 5, 6, 9, 7, 3, 10, 7, 6, 16, 3, 7, 16, 1, 9, 13, 1, 6, 12, 5, 7, 18, 4, 3, 12, 6]\n",
    "\n",
    "def get_data(data):\n",
    "\n",
    "    result = [data[i:i+4] for i in range(data.__len__()-3)]\n",
    "#     print(result)\n",
    "    return result\n",
    "\n",
    "def get_best_white_params(lnum,rnum):\n",
    "    my_pso = PSO(pN=1000, dim=1, max_iter=100, lnum=lnum, rnum=rnum)\n",
    "    my_pso.init_Population()\n",
    "    fitness = my_pso.iterator()\n",
    "    print(\"全局最优值\", my_pso.gbest)\n",
    "    return my_pso.gbest\n",
    "\n",
    "def markov(sublist):\n",
    "\n",
    "    max=np.max(sublist)\n",
    "    min=np.min(sublist)\n",
    "    n=4\n",
    "\n",
    "    per=(max-min)/n\n",
    "    E=[min+i*per for i in range(n+1)]\n",
    "    print(E)\n",
    "    label=np.zeros((n,n))\n",
    "\n",
    "    sublist_E=sublist.copy()\n",
    "\n",
    "    for i in range(sublist.__len__()):\n",
    "        for j in range(n):\n",
    "            if sublist[i]<=min+(j+1)*per:\n",
    "                sublist_E[i]=j\n",
    "                break\n",
    "    print(sublist_E)\n",
    "    for i in range(sublist_E.__len__()-1):\n",
    "        label[sublist_E[i]][sublist_E[i+1]]+=1\n",
    "    print(label)\n",
    "    for k in range(label.__len__()):\n",
    "        label[k]=label[k]/sum(label[k])\n",
    "    print(label)\n",
    "    f =[]\n",
    "    for i in range(E.__len__()-1):\n",
    "        a=get_best_white_params(E[i],E[i+1])\n",
    "        f.append(E[i]*a+(1-a)*E[i+1])\n",
    "\n",
    "\n",
    "\n",
    "    return label,f,E\n",
    "def predict_all(data):\n",
    "    result = []\n",
    "    for item in data:\n",
    "        result.extend(list(BPpredict(item)[0]))\n",
    "\n",
    "    return result\n",
    "def get_last_predict(E,cancha,f,w):\n",
    "    label=0\n",
    "    w =np.array(w)\n",
    "    for i in range(E.__len__()):\n",
    "        if cancha <=E[i]:\n",
    "            label=i\n",
    "            break\n",
    "    return np.dot(np.array(w[label-1]),f)\n",
    "\n",
    "\n",
    "if __name__ == '__main__':\n",
    "    test_data = get_data(data)[0:-1]\n",
    "    test=data[4::]\n",
    "    print(len(test_data))\n",
    "    print(len(test))\n",
    "#     result=list(predict_all(test_data))\n",
    "#     cancha = [test[i]-result[i] for i in range(test.__len__())]\n",
    "#     w,f,E=markov(cancha)\n",
    "#     last_result=[]\n",
    "#     for i in range(cancha.__len__()):\n",
    "#         last_result.append(list(get_last_predict(E,cancha[i],f,w)+result[i])[0])\n",
    "#     print(last_result)\n",
    "#     print(result)\n",
    "#     print(test)"
   ]
  },
  {
   "cell_type": "code",
   "execution_count": null,
   "metadata": {},
   "outputs": [],
   "source": []
  },
  {
   "cell_type": "code",
   "execution_count": null,
   "metadata": {},
   "outputs": [],
   "source": []
  },
  {
   "cell_type": "code",
   "execution_count": null,
   "metadata": {},
   "outputs": [],
   "source": []
  },
  {
   "cell_type": "code",
   "execution_count": null,
   "metadata": {},
   "outputs": [],
   "source": []
  },
  {
   "cell_type": "code",
   "execution_count": null,
   "metadata": {},
   "outputs": [],
   "source": []
  },
  {
   "cell_type": "code",
   "execution_count": null,
   "metadata": {},
   "outputs": [],
   "source": []
  },
  {
   "cell_type": "code",
   "execution_count": 2,
   "metadata": {},
   "outputs": [
    {
     "name": "stderr",
     "output_type": "stream",
     "text": [
      "/usr/local/miniconda3/lib/python3.6/importlib/_bootstrap.py:219: RuntimeWarning: numpy.dtype size changed, may indicate binary incompatibility. Expected 96, got 88\n",
      "  return f(*args, **kwds)\n",
      "/usr/local/miniconda3/lib/python3.6/importlib/_bootstrap.py:219: RuntimeWarning: numpy.dtype size changed, may indicate binary incompatibility. Expected 96, got 88\n",
      "  return f(*args, **kwds)\n"
     ]
    }
   ],
   "source": [
    "import pandas as pd\n",
    "import numpy as np\n",
    "import time\n",
    "import matplotlib.pyplot as plt\n",
    "import seaborn as sns;sns.set()\n",
    "# LSTM DEMO\n",
    "import math\n",
    "from tensorflow.keras.models import Sequential\n",
    "from tensorflow.keras.layers import Dense\n",
    "from tensorflow.keras.layers import LSTM\n",
    "from sklearn.preprocessing import MinMaxScaler\n",
    "from sklearn.metrics import mean_squared_error\n",
    "%matplotlib inline"
   ]
  },
  {
   "cell_type": "code",
   "execution_count": 3,
   "metadata": {},
   "outputs": [
    {
     "data": {
      "text/html": [
       "<div>\n",
       "<style scoped>\n",
       "    .dataframe tbody tr th:only-of-type {\n",
       "        vertical-align: middle;\n",
       "    }\n",
       "\n",
       "    .dataframe tbody tr th {\n",
       "        vertical-align: top;\n",
       "    }\n",
       "\n",
       "    .dataframe thead th {\n",
       "        text-align: right;\n",
       "    }\n",
       "</style>\n",
       "<table border=\"1\" class=\"dataframe\">\n",
       "  <thead>\n",
       "    <tr style=\"text-align: right;\">\n",
       "      <th></th>\n",
       "      <th>time</th>\n",
       "      <th>open</th>\n",
       "      <th>close</th>\n",
       "    </tr>\n",
       "  </thead>\n",
       "  <tbody>\n",
       "    <tr>\n",
       "      <th>0</th>\n",
       "      <td>1417411980</td>\n",
       "      <td>300.0</td>\n",
       "      <td>300.0</td>\n",
       "    </tr>\n",
       "    <tr>\n",
       "      <th>1</th>\n",
       "      <td>1417412400</td>\n",
       "      <td>300.0</td>\n",
       "      <td>300.0</td>\n",
       "    </tr>\n",
       "    <tr>\n",
       "      <th>2</th>\n",
       "      <td>1417415040</td>\n",
       "      <td>370.0</td>\n",
       "      <td>370.0</td>\n",
       "    </tr>\n",
       "    <tr>\n",
       "      <th>3</th>\n",
       "      <td>1417416600</td>\n",
       "      <td>370.0</td>\n",
       "      <td>370.0</td>\n",
       "    </tr>\n",
       "    <tr>\n",
       "      <th>4</th>\n",
       "      <td>1417498140</td>\n",
       "      <td>377.0</td>\n",
       "      <td>377.0</td>\n",
       "    </tr>\n",
       "  </tbody>\n",
       "</table>\n",
       "</div>"
      ],
      "text/plain": [
       "         time   open  close\n",
       "0  1417411980  300.0  300.0\n",
       "1  1417412400  300.0  300.0\n",
       "2  1417415040  370.0  370.0\n",
       "3  1417416600  370.0  370.0\n",
       "4  1417498140  377.0  377.0"
      ]
     },
     "execution_count": 3,
     "metadata": {},
     "output_type": "execute_result"
    }
   ],
   "source": [
    "df=pd.read_csv('BTC_price_history 23.38.34.csv',usecols=[0,4,6],names=['time', 'open', 'close'])\n",
    "df.head(n=5)\n",
    "\n",
    "df['price']=(df['open']+df['close'])/2\n",
    "data=pd.DataFrame()\n",
    "data['time']=df['time']\n",
    "data['price']=df['price']"
   ]
  },
  {
   "cell_type": "code",
   "execution_count": 6,
   "metadata": {},
   "outputs": [],
   "source": [
    "\n",
    "\n",
    "scaler = MinMaxScaler(feature_range=(0, 1))\n",
    "dataset = scaler.fit_transform(data)"
   ]
  },
  {
   "cell_type": "code",
   "execution_count": 9,
   "metadata": {},
   "outputs": [
    {
     "name": "stdout",
     "output_type": "stream",
     "text": [
      "WARNING:tensorflow:The `nb_epoch` argument in `fit` has been renamed `epochs`.\n",
      "Epoch 1/100\n"
     ]
    },
    {
     "ename": "KeyboardInterrupt",
     "evalue": "",
     "output_type": "error",
     "traceback": [
      "\u001b[0;31m---------------------------------------------------------------------------\u001b[0m",
      "\u001b[0;31mKeyboardInterrupt\u001b[0m                         Traceback (most recent call last)",
      "\u001b[0;32m<ipython-input-9-685f1ab0fadb>\u001b[0m in \u001b[0;36m<module>\u001b[0;34m()\u001b[0m\n\u001b[1;32m     27\u001b[0m \u001b[0mmodel\u001b[0m\u001b[0;34m.\u001b[0m\u001b[0madd\u001b[0m\u001b[0;34m(\u001b[0m\u001b[0mDense\u001b[0m\u001b[0;34m(\u001b[0m\u001b[0;36m1\u001b[0m\u001b[0;34m)\u001b[0m\u001b[0;34m)\u001b[0m\u001b[0;34m\u001b[0m\u001b[0m\n\u001b[1;32m     28\u001b[0m \u001b[0mmodel\u001b[0m\u001b[0;34m.\u001b[0m\u001b[0mcompile\u001b[0m\u001b[0;34m(\u001b[0m\u001b[0mloss\u001b[0m\u001b[0;34m=\u001b[0m\u001b[0;34m'mean_squared_error'\u001b[0m\u001b[0;34m,\u001b[0m \u001b[0moptimizer\u001b[0m\u001b[0;34m=\u001b[0m\u001b[0;34m'adam'\u001b[0m\u001b[0;34m)\u001b[0m\u001b[0;34m\u001b[0m\u001b[0m\n\u001b[0;32m---> 29\u001b[0;31m \u001b[0mmodel\u001b[0m\u001b[0;34m.\u001b[0m\u001b[0mfit\u001b[0m\u001b[0;34m(\u001b[0m\u001b[0mtrainX\u001b[0m\u001b[0;34m,\u001b[0m \u001b[0mtrainY\u001b[0m\u001b[0;34m,\u001b[0m \u001b[0mnb_epoch\u001b[0m\u001b[0;34m=\u001b[0m\u001b[0;36m100\u001b[0m\u001b[0;34m,\u001b[0m \u001b[0mbatch_size\u001b[0m\u001b[0;34m=\u001b[0m\u001b[0;36m1\u001b[0m\u001b[0;34m,\u001b[0m \u001b[0mverbose\u001b[0m\u001b[0;34m=\u001b[0m\u001b[0;36m2\u001b[0m\u001b[0;34m)\u001b[0m\u001b[0;34m\u001b[0m\u001b[0m\n\u001b[0m\u001b[1;32m     30\u001b[0m \u001b[0;31m# make predictions\u001b[0m\u001b[0;34m\u001b[0m\u001b[0;34m\u001b[0m\u001b[0m\n\u001b[1;32m     31\u001b[0m \u001b[0mtrainPredict\u001b[0m \u001b[0;34m=\u001b[0m \u001b[0mmodel\u001b[0m\u001b[0;34m.\u001b[0m\u001b[0mpredict\u001b[0m\u001b[0;34m(\u001b[0m\u001b[0mtrainX\u001b[0m\u001b[0;34m)\u001b[0m\u001b[0;34m\u001b[0m\u001b[0m\n",
      "\u001b[0;32m/usr/local/miniconda3/lib/python3.6/site-packages/tensorflow/python/keras/engine/training.py\u001b[0m in \u001b[0;36mfit\u001b[0;34m(self, x, y, batch_size, epochs, verbose, callbacks, validation_split, validation_data, shuffle, class_weight, sample_weight, initial_epoch, steps_per_epoch, validation_steps, **kwargs)\u001b[0m\n\u001b[1;32m   1346\u001b[0m           \u001b[0minitial_epoch\u001b[0m\u001b[0;34m=\u001b[0m\u001b[0minitial_epoch\u001b[0m\u001b[0;34m,\u001b[0m\u001b[0;34m\u001b[0m\u001b[0m\n\u001b[1;32m   1347\u001b[0m           \u001b[0msteps_per_epoch\u001b[0m\u001b[0;34m=\u001b[0m\u001b[0msteps_per_epoch\u001b[0m\u001b[0;34m,\u001b[0m\u001b[0;34m\u001b[0m\u001b[0m\n\u001b[0;32m-> 1348\u001b[0;31m           validation_steps=validation_steps)\n\u001b[0m\u001b[1;32m   1349\u001b[0m \u001b[0;34m\u001b[0m\u001b[0m\n\u001b[1;32m   1350\u001b[0m   def evaluate(self,\n",
      "\u001b[0;32m/usr/local/miniconda3/lib/python3.6/site-packages/tensorflow/python/keras/engine/training_arrays.py\u001b[0m in \u001b[0;36mfit_loop\u001b[0;34m(model, inputs, targets, sample_weights, batch_size, epochs, verbose, callbacks, val_inputs, val_targets, val_sample_weights, shuffle, callback_metrics, initial_epoch, steps_per_epoch, validation_steps)\u001b[0m\n\u001b[1;32m    251\u001b[0m           \u001b[0mins_batch\u001b[0m\u001b[0;34m[\u001b[0m\u001b[0mi\u001b[0m\u001b[0;34m]\u001b[0m \u001b[0;34m=\u001b[0m \u001b[0mins_batch\u001b[0m\u001b[0;34m[\u001b[0m\u001b[0mi\u001b[0m\u001b[0;34m]\u001b[0m\u001b[0;34m.\u001b[0m\u001b[0mtoarray\u001b[0m\u001b[0;34m(\u001b[0m\u001b[0;34m)\u001b[0m\u001b[0;34m\u001b[0m\u001b[0m\n\u001b[1;32m    252\u001b[0m \u001b[0;34m\u001b[0m\u001b[0m\n\u001b[0;32m--> 253\u001b[0;31m         \u001b[0mouts\u001b[0m \u001b[0;34m=\u001b[0m \u001b[0mf\u001b[0m\u001b[0;34m(\u001b[0m\u001b[0mins_batch\u001b[0m\u001b[0;34m)\u001b[0m\u001b[0;34m\u001b[0m\u001b[0m\n\u001b[0m\u001b[1;32m    254\u001b[0m         \u001b[0;32mif\u001b[0m \u001b[0;32mnot\u001b[0m \u001b[0misinstance\u001b[0m\u001b[0;34m(\u001b[0m\u001b[0mouts\u001b[0m\u001b[0;34m,\u001b[0m \u001b[0mlist\u001b[0m\u001b[0;34m)\u001b[0m\u001b[0;34m:\u001b[0m\u001b[0;34m\u001b[0m\u001b[0m\n\u001b[1;32m    255\u001b[0m           \u001b[0mouts\u001b[0m \u001b[0;34m=\u001b[0m \u001b[0;34m[\u001b[0m\u001b[0mouts\u001b[0m\u001b[0;34m]\u001b[0m\u001b[0;34m\u001b[0m\u001b[0m\n",
      "\u001b[0;32m/usr/local/miniconda3/lib/python3.6/site-packages/tensorflow/python/keras/backend.py\u001b[0m in \u001b[0;36m__call__\u001b[0;34m(self, inputs)\u001b[0m\n\u001b[1;32m   2895\u001b[0m       \u001b[0mself\u001b[0m\u001b[0;34m.\u001b[0m\u001b[0m_make_callable\u001b[0m\u001b[0;34m(\u001b[0m\u001b[0mfeed_arrays\u001b[0m\u001b[0;34m,\u001b[0m \u001b[0mfeed_symbols\u001b[0m\u001b[0;34m,\u001b[0m \u001b[0msymbol_vals\u001b[0m\u001b[0;34m,\u001b[0m \u001b[0msession\u001b[0m\u001b[0;34m)\u001b[0m\u001b[0;34m\u001b[0m\u001b[0m\n\u001b[1;32m   2896\u001b[0m \u001b[0;34m\u001b[0m\u001b[0m\n\u001b[0;32m-> 2897\u001b[0;31m     \u001b[0mfetched\u001b[0m \u001b[0;34m=\u001b[0m \u001b[0mself\u001b[0m\u001b[0;34m.\u001b[0m\u001b[0m_callable_fn\u001b[0m\u001b[0;34m(\u001b[0m\u001b[0;34m*\u001b[0m\u001b[0marray_vals\u001b[0m\u001b[0;34m)\u001b[0m\u001b[0;34m\u001b[0m\u001b[0m\n\u001b[0m\u001b[1;32m   2898\u001b[0m     \u001b[0;32mreturn\u001b[0m \u001b[0mfetched\u001b[0m\u001b[0;34m[\u001b[0m\u001b[0;34m:\u001b[0m\u001b[0mlen\u001b[0m\u001b[0;34m(\u001b[0m\u001b[0mself\u001b[0m\u001b[0;34m.\u001b[0m\u001b[0moutputs\u001b[0m\u001b[0;34m)\u001b[0m\u001b[0;34m]\u001b[0m\u001b[0;34m\u001b[0m\u001b[0m\n\u001b[1;32m   2899\u001b[0m \u001b[0;34m\u001b[0m\u001b[0m\n",
      "\u001b[0;32m/usr/local/miniconda3/lib/python3.6/site-packages/tensorflow/python/client/session.py\u001b[0m in \u001b[0;36m__call__\u001b[0;34m(self, *args)\u001b[0m\n\u001b[1;32m   1449\u001b[0m         \u001b[0;32mif\u001b[0m \u001b[0mself\u001b[0m\u001b[0;34m.\u001b[0m\u001b[0m_session\u001b[0m\u001b[0;34m.\u001b[0m\u001b[0m_created_with_new_api\u001b[0m\u001b[0;34m:\u001b[0m\u001b[0;34m\u001b[0m\u001b[0m\n\u001b[1;32m   1450\u001b[0m           return tf_session.TF_SessionRunCallable(\n\u001b[0;32m-> 1451\u001b[0;31m               self._session._session, self._handle, args, status, None)\n\u001b[0m\u001b[1;32m   1452\u001b[0m         \u001b[0;32melse\u001b[0m\u001b[0;34m:\u001b[0m\u001b[0;34m\u001b[0m\u001b[0m\n\u001b[1;32m   1453\u001b[0m           return tf_session.TF_DeprecatedSessionRunCallable(\n",
      "\u001b[0;31mKeyboardInterrupt\u001b[0m: "
     ]
    }
   ],
   "source": [
    "\n",
    "# convert an array of values into a dataset matrix\n",
    "def create_dataset(dataset, look_back=1):\n",
    "    dataX, dataY = [], []\n",
    "    for i in range(len(dataset)-look_back-1):\n",
    "        a = dataset[i:(i+look_back), 0]\n",
    "        dataX.append(a)\n",
    "        dataY.append(dataset[i + look_back, 0])\n",
    "    return numpy.array(dataX), numpy.array(dataY)\n",
    "def coeff_determination(y_true, y_pred):\n",
    "    from keras import backend as K\n",
    "    SS_res =  K.sum(K.square( y_true-y_pred ))\n",
    "    SS_tot = K.sum(K.square( y_true - K.mean(y_true) ) )\n",
    "    return ( 1 - SS_res/(SS_tot + K.epsilon()) )\n",
    "# normalize the dataset\n",
    "\n",
    "# split into train and test sets\n",
    "train_size = int(len(dataset) * 0.8)\n",
    "test_size = len(dataset) - train_size\n",
    "train, test = dataset[0:train_size,:], dataset[train_size:len(dataset),:]\n",
    "# reshape into X=t and Y=t+1\n",
    "look_back = 86400\n",
    "trainX, trainY = create_dataset(train, look_back)\n",
    "testX, testY = create_dataset(test, look_back)\n",
    "# reshape input to be [samples, time steps, features]\n",
    "trainX = numpy.reshape(trainX, (trainX.shape[0], trainX.shape[1], 1))\n",
    "testX = numpy.reshape(testX, (testX.shape[0], testX.shape[1], 1))\n",
    "# create and fit the LSTM network\n",
    "model = Sequential()\n",
    "model.add(LSTM(512, input_shape=(trainX.shape[1], trainX.shape[2]), return_sequences=True))\n",
    "model.add(LSTM(256, return_sequences=True))\n",
    "# model.add(Dropout(0.2))\n",
    "model.add(LSTM(128, return_sequences=False))\n",
    "model.add(Dropout(0.2))\n",
    "model.add(Dense(1))\n",
    "model.compile(loss='mean_squared_error', optimizer='adam')\n",
    "model.fit(trainX, trainY, nb_epoch=100, batch_size=256, verbose=1)\n",
    "# make predictions\n",
    "trainPredict = model.predict(trainX)\n",
    "testPredict = model.predict(testX)\n",
    "# invert predictions\n",
    "trainPredict = scaler.inverse_transform(trainPredict)\n",
    "trainY = scaler.inverse_transform([trainY])\n",
    "testPredict = scaler.inverse_transform(testPredict)\n",
    "testY = scaler.inverse_transform([testY])\n",
    "# calculate root mean squared error\n",
    "trainScore = math.sqrt(mean_squared_error(trainY[0], trainPredict[:,0]))\n",
    "print('Train Score: %.2f RMSE' % (coeff_determination((trainY[0], trainPredict[:,0]))))\n",
    "testScore = math.sqrt(mean_squared_error(testY[0], testPredict[:,0]))\n",
    "print('Test Score: %.2f RMSE' % (coeff_determination(testY[0], testPredict[:,0])))\n",
    "# shift train predictions for plotting\n",
    "trainPredictPlot = numpy.empty_like(dataset)\n",
    "trainPredictPlot[:, :] = numpy.nan\n",
    "trainPredictPlot[look_back:len(trainPredict)+look_back, :] = trainPredict\n",
    "# shift test predictions for plotting\n",
    "testPredictPlot = numpy.empty_like(dataset)\n",
    "testPredictPlot[:, :] = numpy.nan\n",
    "testPredictPlot[len(trainPredict)+(look_back*2)+1:len(dataset)-1, :] = testPredict\n",
    "# plot baseline and predictions\n",
    "plt.plot(scaler.inverse_transform(dataset))\n",
    "plt.plot(trainPredictPlot)\n",
    "plt.plot(testPredictPlot)\n",
    "plt.show()"
   ]
  },
  {
   "cell_type": "code",
   "execution_count": null,
   "metadata": {},
   "outputs": [],
   "source": [
    "data.plot(y='price')"
   ]
  },
  {
   "cell_type": "code",
   "execution_count": null,
   "metadata": {},
   "outputs": [],
   "source": [
    "start_time=pd.Timestamp('2017-01-03 21:59:00')\n",
    "split_time=pd.Timestamp('2017-12-20 21:59:00')\n",
    "train=data.loc[start_time:split_time]\n",
    "test=data.loc[split_time:]\n",
    "\n",
    "ax=train.plot(figsize=(10,12))\n",
    "test.plot(ax=ax)\n",
    "plt.legend(['train','test'])\n",
    "plt.show()"
   ]
  },
  {
   "cell_type": "code",
   "execution_count": null,
   "metadata": {},
   "outputs": [],
   "source": [
    "test_norm=(test-test.min())/(test.max()-test.min())\n",
    "train_norm=(train-train.min())/(train.max()-train.min())"
   ]
  },
  {
   "cell_type": "code",
   "execution_count": null,
   "metadata": {},
   "outputs": [],
   "source": [
    "train_norm_df=pd.DataFrame(train_norm,index=train.index,dtype=np.float64)\n",
    "test_norm_df=pd.DataFrame(test_norm,index=test.index,dtype=np.float64\n",
    "                         )\n",
    "s=10\n",
    "train_norm_df['X_{}'.format(s)]=train_norm_df['price'].shift(s)\n",
    "test_norm_df['X_{}'.format(s)]=test_norm_df['price'].shift(s)\n",
    "    \n",
    "X_train=train_norm_df.dropna().drop('price',axis=1).values\n",
    "y_train=train_norm_df.dropna().drop('X_10',axis=1).values\n",
    "X_test=test_norm_df.dropna().drop('price',axis=1).values\n",
    "y_test=test_norm_df.dropna().drop('X_10',axis=1).values\n",
    "\n",
    "\n"
   ]
  },
  {
   "cell_type": "code",
   "execution_count": null,
   "metadata": {},
   "outputs": [],
   "source": [
    "from sklearn.svm import SVR\n",
    "svr=SVR(kernel='rbf')\n",
    "svr.fit(X_train,y_train)\n",
    "y_pred=svr.predict(X_test)"
   ]
  },
  {
   "cell_type": "code",
   "execution_count": null,
   "metadata": {},
   "outputs": [],
   "source": [
    "plt.plot(y_test)\n",
    "plt.plot(y_pred)"
   ]
  },
  {
   "cell_type": "code",
   "execution_count": null,
   "metadata": {},
   "outputs": [],
   "source": [
    "from sklearn.metrics import r2_score\n",
    "print('R-Squared %f' %r2_score(y_test,y_pred))"
   ]
  },
  {
   "cell_type": "code",
   "execution_count": null,
   "metadata": {},
   "outputs": [],
   "source": [
    "from keras.models import Sequential\n",
    "from keras.layers import Dense,Dropout\n",
    "from keras.optimizers import Adam\n",
    "import keras.backend as K"
   ]
  },
  {
   "cell_type": "code",
   "execution_count": null,
   "metadata": {},
   "outputs": [],
   "source": [
    "pwd"
   ]
  },
  {
   "cell_type": "code",
   "execution_count": null,
   "metadata": {},
   "outputs": [],
   "source": [
    "K.clear_session()\n",
    "model=Sequential()\n",
    "model.add(Dense(1,input_shape=(X_test.shape[1],),activation='relu'))\n",
    "model.add(Dropout(0.2))\n",
    "model.compile(optimizer=Adam(lr=1e-3),loss='mean_squared_error')\n",
    "model.fit(X_train,y_train,batch_size=16,epochs=20,verbose=1)\n"
   ]
  },
  {
   "cell_type": "code",
   "execution_count": null,
   "metadata": {},
   "outputs": [],
   "source": []
  },
  {
   "cell_type": "code",
   "execution_count": null,
   "metadata": {},
   "outputs": [],
   "source": [
    "%matplotlib inline\n",
    "import matplotlib.pyplot as plt\n",
    "import matplotlib.dates as md\n",
    "import numpy as np\n",
    "import datetime as dt\n",
    "import time\n",
    "n=20\n",
    "duration=1000\n",
    "now=time.mktime(time.localtime())#get now time 's timestamp\n",
    "timestamps=np.linspace(now,now+duration,n)\n",
    "dates=[dt.datetime.fromtimestamp(ts) for ts in timestamps]\n",
    "values=np.sin((timestamps-now)/duration*2*np.pi)\n",
    "plt.subplots_adjust(bottom=0.2)\n",
    "plt.xticks( rotation=45 )\n",
    "ax=plt.gca()\n",
    "xfmt = md.DateFormatter('%Y-%m-%d %H:%M:%S')\n",
    "ax.xaxis.set_major_formatter(xfmt)\n",
    "plt.plot(dates,values)\n",
    "plt.show()"
   ]
  },
  {
   "cell_type": "code",
   "execution_count": null,
   "metadata": {},
   "outputs": [],
   "source": []
  },
  {
   "cell_type": "code",
   "execution_count": null,
   "metadata": {},
   "outputs": [],
   "source": [
    "\n",
    "\n",
    "n=20\n",
    "duration=1000\n",
    "timestamps=df['time'].values.tolist()\n",
    "values=df['volume'].values.tolist()\n",
    "dates=[dt.datetime.fromtimestamp(ts) for ts in timestamps]\n",
    "datenums=md.date2num(dates)\n",
    "plt.subplots_adjust(bottom=0.2)\n",
    "plt.xticks( rotation=25 )\n",
    "ax=plt.gca()\n",
    "xfmt = md.DateFormatter('%Y-%m-%d %H:%M:%S')\n",
    "ax.xaxis.set_major_formatter(xfmt)\n",
    "plt.plot(datenums,values)\n",
    "plt.show()"
   ]
  },
  {
   "cell_type": "code",
   "execution_count": null,
   "metadata": {},
   "outputs": [],
   "source": [
    "timestamps[0],timestamps[-1]"
   ]
  },
  {
   "cell_type": "code",
   "execution_count": null,
   "metadata": {},
   "outputs": [],
   "source": [
    "dt.datetime.fromtimestamp(timestamps[0]).strftime('%Y/%m/%d-%H/%M/%S')"
   ]
  },
  {
   "cell_type": "code",
   "execution_count": null,
   "metadata": {},
   "outputs": [],
   "source": [
    "time.mktime(time.localtime())"
   ]
  },
  {
   "cell_type": "code",
   "execution_count": null,
   "metadata": {},
   "outputs": [],
   "source": [
    "time.localtime()"
   ]
  },
  {
   "cell_type": "code",
   "execution_count": null,
   "metadata": {},
   "outputs": [],
   "source": [
    "!python run.py"
   ]
  },
  {
   "cell_type": "code",
   "execution_count": null,
   "metadata": {},
   "outputs": [],
   "source": []
  }
 ],
 "metadata": {
  "kernelspec": {
   "display_name": "Python 3",
   "language": "python",
   "name": "python3"
  },
  "language_info": {
   "codemirror_mode": {
    "name": "ipython",
    "version": 3
   },
   "file_extension": ".py",
   "mimetype": "text/x-python",
   "name": "python",
   "nbconvert_exporter": "python",
   "pygments_lexer": "ipython3",
   "version": "3.6.5"
  }
 },
 "nbformat": 4,
 "nbformat_minor": 2
}
