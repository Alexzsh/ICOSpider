{
 "cells": [
  {
   "cell_type": "code",
   "execution_count": null,
   "metadata": {
    "collapsed": false
   },
   "outputs": [],
   "source": [
    "import gevent\n",
    "from gevent import Greenlet,monkey\n",
    "import gevent.pool\n",
    "monkey.patch_all()"
   ]
  },
  {
   "cell_type": "code",
   "execution_count": null,
   "metadata": {
    "collapsed": true
   },
   "outputs": [],
   "source": [
    "import gevent\n",
    "import greenlet\n",
    "def callback(event, args):\n",
    "    print event, args[0], '===:>>>>', args[1]\n",
    "\n",
    "# 想象成你的爬虫1\n",
    "def foo():\n",
    "    print('Running in foo')\n",
    "    # 这个时候做了网络IO\n",
    "    gevent.sleep(0)\n",
    "    print('Explicit context switch to foo again')\n",
    "\n",
    "# 想象成你的爬虫2\n",
    "def bar():\n",
    "    print('Explicit context to bar')\n",
    "    # 这个时候做了网络IO\n",
    "    gevent.sleep(0)\n",
    "    print('Implicit context switch back to bar')\n",
    "\n",
    "print 'main greenlet info: ', greenlet.greenlet.getcurrent()\n",
    "print 'hub info', gevent.get_hub()\n",
    "oldtrace = greenlet.settrace(callback)\n",
    "        \n",
    "gevent.joinall([\n",
    "    gevent.spawn(foo),\n",
    "    gevent.spawn(bar),\n",
    "])\n",
    "greenlet.settrace(oldtrace)\n"
   ]
  },
  {
   "cell_type": "code",
   "execution_count": null,
   "metadata": {
    "collapsed": true
   },
   "outputs": [],
   "source": []
  }
 ],
 "metadata": {
  "kernelspec": {
   "display_name": "Python 3",
   "language": "python",
   "name": "python3"
  },
  "language_info": {
   "codemirror_mode": {
    "name": "ipython",
    "version": 3
   },
   "file_extension": ".py",
   "mimetype": "text/x-python",
   "name": "python",
   "nbconvert_exporter": "python",
   "pygments_lexer": "ipython3",
   "version": "3.6.2"
  }
 },
 "nbformat": 4,
 "nbformat_minor": 2
}
